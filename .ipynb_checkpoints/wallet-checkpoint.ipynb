{
 "cells": [
  {
   "cell_type": "code",
   "execution_count": 19,
   "id": "a245b722-a36b-4b61-b71e-b66aeb8e81d9",
   "metadata": {},
   "outputs": [],
   "source": [
    "# Import dependencies\n",
    "import subprocess \n",
    "import json\n",
    "import os\n",
    "from dotenv import load_dotenv\n",
    "from constants import *\n",
    "\n",
    "from bit import Key, PrivateKey, PrivateKeyTestnet\n",
    "from bit.network import NetworkAPI\n",
    "from bit import *\n",
    "from web3 import Web3\n",
    "from eth_account import Account\n",
    "from web3 import Web3, middleware, Account\n",
    "\n",
    "from bit import PrivateKeyTestnet\n",
    "from bit.network import NetworkAPI\n",
    "from web3 import Web3, middleware, Account\n",
    "from web3.gas_strategies.time_based import medium_gas_price_strategy\n",
    "from web3.middleware import geth_poa_middleware\n",
    "w3= Web3(Web3.HTTPProvider('http://localhost:8545'))\n",
    "#enable PoA middleware\n",
    "w3.middleware_onion.inject(geth_poa_middleware, layer=0)\n",
    "#set gas price strategy to built in \"medium\" algorithm (~est 5min per tx) \n",
    "# see https://web3py.readthedocs.io/en/stable/gas_price.html?highlight=gas\n",
    "#see https://ethgastation.info/API for a more accuerate strategy\n",
    "w3.eth.setGasPriceStrategy(medium_gas_price_strategy)\n",
    " \n",
    "\n",
    "\n",
    "from web3.middleware import geth_poa_middleware"
   ]
  },
  {
   "cell_type": "code",
   "execution_count": 20,
   "id": "3f55773e-5f93-4460-8fd9-d21d4eee7f28",
   "metadata": {},
   "outputs": [
    {
     "data": {
      "text/plain": [
       "str"
      ]
     },
     "execution_count": 20,
     "metadata": {},
     "output_type": "execute_result"
    }
   ],
   "source": [
    "# Load and set environment variables\n",
    "load_dotenv()\n",
    "mnemonic = os.getenv(\"mnemonic\")\n",
    "type(mnemonic)"
   ]
  },
  {
   "cell_type": "code",
   "execution_count": 21,
   "id": "b6af86e8-7706-4ce8-9908-9967889e8a1b",
   "metadata": {},
   "outputs": [],
   "source": [
    "# Create a function called `derive_wallets`\n",
    "\n",
    "def derive_wallets(mnemonic, coin, numderive):\n",
    "    \"\"\"Use the subprocess library to call the php file script from Python\"\"\"\n",
    "    command = f'php ./hd-wallet-derive/hd-wallet-derive.php -g --mnemonic=\"{mnemonic}\" --numderive=\"{numderive}\" --coin=\"{coin}\" --format=json' \n",
    "    \n",
    "    p = subprocess.Popen(command, stdout=subprocess.PIPE, shell=True)\n",
    "    (output, err) = p.communicate()\n",
    "   \n",
    "    keys = json.loads(output)\n",
    "    return  keys\n",
    "\n"
   ]
  },
  {
   "cell_type": "code",
   "execution_count": 22,
   "id": "0133fb1c-e7d6-41df-a103-2efc3926b550",
   "metadata": {},
   "outputs": [],
   "source": [
    "#Setting dictionary of coins to be used in the wallet\n",
    "\n",
    "coins = {\"eth\", \"btc-test\", \"btc\"}\n",
    "numderive = 3\n",
    "\n"
   ]
  },
  {
   "cell_type": "code",
   "execution_count": 23,
   "id": "f031e143-8ca7-4764-ace1-10786f25a12a",
   "metadata": {},
   "outputs": [],
   "source": [
    "\n",
    "\n",
    "keys = {}\n",
    "for coin in coins:\n",
    "    keys[coin]= derive_wallets(os.getenv('mnemonic'), coin, numderive=3)\n",
    "\n"
   ]
  },
  {
   "cell_type": "code",
   "execution_count": 24,
   "id": "b6314a45-aad1-4cec-97f9-ac08fa9f902a",
   "metadata": {},
   "outputs": [
    {
     "name": "stdout",
     "output_type": "stream",
     "text": [
      "\"0xc92d285ef749d75004e6ab6cf1a9e16d85eb6bfc550a6117841995a3ec389e76\"\n",
      "\"cNG3kBzDteXZJCPR1xWv7iMAfdA64GzpKJdY3NCP5NvjV2T6ksa2\"\n"
     ]
    }
   ],
   "source": [
    "eth_PrivateKey = keys[\"eth\"][0]['privkey']\n",
    "btc_PrivateKey = keys['btc-test'][0]['privkey']\n",
    "\n",
    "\n",
    "print(json.dumps(eth_PrivateKey, indent=4, sort_keys=True))\n",
    "print(json.dumps(btc_PrivateKey, indent=4, sort_keys=True))"
   ]
  },
  {
   "cell_type": "code",
   "execution_count": 25,
   "id": "8909f636-322f-459c-a4dd-88a73dba1375",
   "metadata": {},
   "outputs": [
    {
     "name": "stdout",
     "output_type": "stream",
     "text": [
      "{\n",
      "    \"btc\": [\n",
      "        {\n",
      "            \"address\": \"1K2ZS5TwvZ8EJADePgd645i9jQX56AtoUo\",\n",
      "            \"index\": 0,\n",
      "            \"path\": \"m/44'/0'/0'/0/0\",\n",
      "            \"privkey\": \"Kwhv6vFwxyNqjv9xWmo9kbuoFsz8bZurLZeXJCeeDjAgBWm7qeBQ\",\n",
      "            \"pubkey\": \"0317725a5fff825bc47edd6ce08c8b1b3633fdc3515927565fe192dcae0d69645e\",\n",
      "            \"pubkeyhash\": \"c5bdc0d4760c12018b7cd19317101717dbe9847c\",\n",
      "            \"xprv\": \"xprvA3NL5uM7dCkHNPxrLUfgiZGsuzJR7gxvF9sD4PiNs87h3E3Cy9Vkw5YkQ3VtSwaLJSe8zStZ2w6CQLnzEtymvCAtfsoqi8mbA3fXpkWv7eS\",\n",
      "            \"xpub\": \"xpub6GMgVQt1TaJaat3KSWCh5hDcU28uX9gmcNnorn7zRTefv2NMWgp1UssEFLYLLrJviWaA5XVFmL51yGVMX3W3Urz1u14aNBYKVJQ9GNnzogK\"\n",
      "        },\n",
      "        {\n",
      "            \"address\": \"16QBWXmecywY7dRiaGhq7HjYvdeYkw2mTi\",\n",
      "            \"index\": 1,\n",
      "            \"path\": \"m/44'/0'/0'/0/1\",\n",
      "            \"privkey\": \"Ky9aYstD826WH9jNpqPYB4ddSH9s5QKpodFHdT8yw4zijoPUFc7X\",\n",
      "            \"pubkey\": \"02017ac8ab4b1140678ad53ce9ee7151c7aefac3c0522c54d56bdd1cebeb2963bf\",\n",
      "            \"pubkeyhash\": \"3b3af7f865ccc48782d1ec52b5023598c0bf351f\",\n",
      "            \"xprv\": \"xprvA3NL5uM7dCkHT8BYnmq3ZPZW6P2TaoYSJwdaAUrzVTwJFwJf3qWheTw9qUGFnciM3qvLnDyHyoTiZV7iSPXSbViAJCBaXqwjsU9BvsXAhPR\",\n",
      "            \"xpub\": \"xpub6GMgVQt1TaJafcG1toN3vXWEeQrwzGGHgAZAxsGc3oUH8jdobNpxCGFdgisL1BcijaCpcTutRk46GHsjjAm34tiCgAJ3nCDhxYEehyWM5ST\"\n",
      "        },\n",
      "        {\n",
      "            \"address\": \"16idVaa8Dp6kPpaDQhMdhq9pbydgaTu4cU\",\n",
      "            \"index\": 2,\n",
      "            \"path\": \"m/44'/0'/0'/0/2\",\n",
      "            \"privkey\": \"L2xZZt71RcNYDWs3XibMbhxHybRRn68ai2bs7nyDC16PvFM4w9xH\",\n",
      "            \"pubkey\": \"022f486c4d80ebe9105a05607b31991db90bb56b092b5be7f24835b721612998ef\",\n",
      "            \"pubkeyhash\": \"3eb8255d5ebabf046d8581e3198c3cea22e67784\",\n",
      "            \"xprv\": \"xprvA3NL5uM7dCkHV4DvrUyDRpGmjEndKwjRvA4ofWssZPqUZgmJh2E5qP7fJRsAQkYtUNhzEeev6HsmzybBpjeFAod2doGqUJFPJew8CMHFYZq\",\n",
      "            \"xpub\": \"xpub6GMgVQt1TaJahYJPxWWDnxDWHGd7jQTHHNzQTuHV7jNTSV6TEZYLPBS99fxLkjJs7TxhuJkVD8gaAwh9UmqhguqRfMW5SDRPThZbwCiWAFs\"\n",
      "        }\n",
      "    ],\n",
      "    \"btc-test\": [\n",
      "        {\n",
      "            \"address\": \"mxcpHYVCcRUoeXT3ZboHwhv6AeUt1hPgD6\",\n",
      "            \"index\": 0,\n",
      "            \"path\": \"m/44'/1'/0'/0/0\",\n",
      "            \"privkey\": \"cNG3kBzDteXZJCPR1xWv7iMAfdA64GzpKJdY3NCP5NvjV2T6ksa2\",\n",
      "            \"pubkey\": \"0253ceb56a6da2954b965e981ec065f1cd959d77255ed1109f2e23bac037e52725\",\n",
      "            \"pubkeyhash\": \"bb95f2dd1a82e2f83d77004bbb9d08f2d45870b8\",\n",
      "            \"xprv\": \"tprv8kQR19ticc7BX4qAuyS8p9toM4WV3WLXJs7CugwpibwCc1yvquxBugnoS2WihVpDwZrtQkwQXnisA3VhFq8Pqdr9yMH7iKkz43mWFhcmRa9\",\n",
      "            \"xpub\": \"tpubDH6T9ZvxkynrQXrxod6jDZYuv62RCqXRtAhzCCz88sjbSWEhUJmn6BQfc9wcNXauFCrd2sJ8TnGKiiHBTNSMh4Y9rByM7hRZupTVFDSL8UQ\"\n",
      "        },\n",
      "        {\n",
      "            \"address\": \"msVCUnAjTZ6wiKUMwR9Up7rPjs6bc1LmPZ\",\n",
      "            \"index\": 1,\n",
      "            \"path\": \"m/44'/1'/0'/0/1\",\n",
      "            \"privkey\": \"cTwXQLVSPdejaMT9qDeBqwGsSsDC6oCvQP2fTJCRtTXPNeB9HpZC\",\n",
      "            \"pubkey\": \"028f4742cb0f7cc6c8b169fe1ab1cc7861b13d569993045d99a4406753abcc0396\",\n",
      "            \"pubkeyhash\": \"834c84b9c171956e4b87cf2ff6bacbc545232c4e\",\n",
      "            \"xprv\": \"tprv8kQR19ticc7BZGWyyeF48fgDmoBWEw2AWeATe4ydBYCK34WqpuwkkZCXuxKFwodcVa4z2XigsCTB1Pb4BM6DyVxRFpRRVDdjJskxLUEJYJs\",\n",
      "            \"xpub\": \"tpubDH6T9ZvxkynrSjYmsHueY5LLLphSQGD55wmEvb1vbozhsYmcTJmLw3pQ64uhC3uvJnpTQDchxEaNVSw5j2CKGg5S2NcUoB2WSNa8JzKLEUt\"\n",
      "        },\n",
      "        {\n",
      "            \"address\": \"moR9V4d3zqJ3N43d2HT6rf6rZY29KGBx2U\",\n",
      "            \"index\": 2,\n",
      "            \"path\": \"m/44'/1'/0'/0/2\",\n",
      "            \"privkey\": \"cSiKHrr9c2Pbf7xk6R9i7AGnfuKVnhbN2WDU19N5eDtpNY9bQ8zf\",\n",
      "            \"pubkey\": \"0310cc87d979bb775bd370835739f111d6f7a92b52f16ee881da9f4cd6af99c94a\",\n",
      "            \"pubkeyhash\": \"56a7d9ede3ef5286171e9c55bb2cc71bad128170\",\n",
      "            \"xprv\": \"tprv8kQR19ticc7BdXgsnTRuyhgH8j6G4qK8wvbfGVRFwjzY8JQqXdEs3jywNAazVSWW5U24JxpeK5nYkF5WHhFpjkVKU7Pkn1hdnvouZWWiDpD\",\n",
      "            \"xpub\": \"tpubDH6T9ZvxkynrWzifg76WP7LPhkcCEAW3XECSZ1TZN1nvxnfcA24TEEboYJSbtr5GbJ3mMVsHcjZK8UhMErLHvKKTEqjhUxerzyeE87srtyH\"\n",
      "        }\n",
      "    ],\n",
      "    \"eth\": [\n",
      "        {\n",
      "            \"address\": \"0x07F597826b464919894F8aE6DA17C8796e01F250\",\n",
      "            \"index\": 0,\n",
      "            \"path\": \"m/44'/60'/0'/0/0\",\n",
      "            \"privkey\": \"0xc92d285ef749d75004e6ab6cf1a9e16d85eb6bfc550a6117841995a3ec389e76\",\n",
      "            \"pubkey\": \"03620c263147f508768fb5e7d8f27abcd2dae67cf04f877eebc7e13675e58ea9a1\",\n",
      "            \"pubkeyhash\": \"7a267f33d979ef84c08ca95a9dedb1892bffba28\",\n",
      "            \"xprv\": \"xprvA3XXnR9Y7XAYfgP1aTSxeVTE1Kx2vZhd3ZKt2xbwnW5VumBW2Lqb9VfaFrfMUbmVe3i1ZERZ7mtC7LPLVHpmWe7kUYiPHSBFL3gEp8NZ5yH\",\n",
      "            \"xpub\": \"xpub6GWtBvgRwtiqtATUgUyy1dPxZMnXL2RUQnFUqM1ZLqcUnZWeZt9qhHz478rSodYGep6D6jerGk8ACVodoPDBD2JwbfjqFrDcdUzA1D7VWs5\"\n",
      "        },\n",
      "        {\n",
      "            \"address\": \"0x018A4c5B36d997aAc69F7Dbcb72b5f2dec703479\",\n",
      "            \"index\": 1,\n",
      "            \"path\": \"m/44'/60'/0'/0/1\",\n",
      "            \"privkey\": \"0xa5ed621bdf62e352200fd100e47d27c86f5b257de8f221b131db494a23d356d6\",\n",
      "            \"pubkey\": \"02051eae70780dbf76c63eafdd1f58bc7b175d73d60ba3252be7e4d0a527e0001b\",\n",
      "            \"pubkeyhash\": \"adde4e5ee0a2f7a27a2038cff35511fb44e283bf\",\n",
      "            \"xprv\": \"xprvA3XXnR9Y7XAYhh2CH7SJD9X2yXJ3duCG5Pp56pXwVQCWAdv95tpBLNcu5rGj4hUrkQesNfqgHzko2ohYSH1Vi2ANwsT41uhHvuLHZYwaWV9\",\n",
      "            \"xpub\": \"xpub6GWtBvgRwtiqvB6fP8yJaHTmXZ8Y3Mv7ScjfuCwZ3jjV3SFHdS8RtAwNw65ftxfFyixDEiMWqEzaUacvCSUVMfHpVtJkKU3wh1MLKAtURYt\"\n",
      "        },\n",
      "        {\n",
      "            \"address\": \"0x7dEBF0f2f6A2CA650D241a5350AAF36Fa3bb011E\",\n",
      "            \"index\": 2,\n",
      "            \"path\": \"m/44'/60'/0'/0/2\",\n",
      "            \"privkey\": \"0x2c7f088a1b374bedce1094e97522801a4d9e2577bed3e846531021f632217a91\",\n",
      "            \"pubkey\": \"03c27eb9e8b422c59553019d96bdf1c68281c3cc9c65a194797fdf5c22bf52eb0a\",\n",
      "            \"pubkeyhash\": \"fc51ab86bb40a1be45d07b18ecb5a90f6391a553\",\n",
      "            \"xprv\": \"xprvA3XXnR9Y7XAYmZmUajmij7ijdYx5QAjgKmRhVHeeCsDAHiWAZNzvDD5uB3bJNspbFAgV1ZiwL7bD3Qcd85fnzdCLuQL8FpR7ZbAEgB75B6G\",\n",
      "            \"xpub\": \"xpub6GWtBvgRwtiqz3qwgmJj6FfUBanZodTXgzMJHg4FmCk9AWqK6vKAm1QP2MhsWnyQ5Jhg9pdHjQzsebnTPcuqg1gNWBhTod8wpfxtwjQv4Dt\"\n",
      "        }\n",
      "    ]\n",
      "}\n"
     ]
    }
   ],
   "source": [
    "\n",
    "\n",
    "print(json.dumps(keys, indent=4, sort_keys=True))\n",
    "\n"
   ]
  },
  {
   "cell_type": "code",
   "execution_count": 26,
   "id": "8984aa2c-4310-498d-b05a-b1350e19e925",
   "metadata": {},
   "outputs": [
    {
     "name": "stdout",
     "output_type": "stream",
     "text": [
      "<eth_account.signers.local.LocalAccount object at 0x7f8f33382400>\n",
      "<PrivateKeyTestnet: mxcpHYVCcRUoeXT3ZboHwhv6AeUt1hPgD6>\n"
     ]
    }
   ],
   "source": [
    "# Create a function called `priv_key_to_account` that converts privkey strings to account objects.\n",
    "def priv_key_to_account(coin, priv_key):\n",
    "    \"\"\"Convert the privkey string in a child key to an account object that bit or web3.py can use to transact\"\"\"\n",
    "    if coin == ETH:\n",
    "        return Account.privateKeyToAccount(priv_key)\n",
    "    if coin == BTCTEST:\n",
    "        return PrivateKeyTestnet(priv_key)\n",
    "    \n",
    "eth_acc = priv_key_to_account(ETH,eth_PrivateKey)\n",
    "btc_acc = priv_key_to_account(BTCTEST,btc_PrivateKey)\n",
    "print(eth_acc)\n",
    "print(btc_acc)"
   ]
  },
  {
   "cell_type": "code",
   "execution_count": 27,
   "id": "d2b5539c-38ac-4f9c-8240-28569ddc4292",
   "metadata": {},
   "outputs": [],
   "source": [
    "# Create a function called `create_tx` that creates an unsigned transaction appropriate metadata.\n",
    "\n",
    "\n",
    "def create_trx(coin, account, recipient, amount):\n",
    "    \"\"\"create the raw, unsigned transaction that contains all metadata needed to transact\"\"\"\n",
    "    global trx_data\n",
    "    if coin ==ETH:\n",
    "        gasEstimate = w3.eth.estimateGas(\n",
    "            {\"from\": account.address, \"to\": recipient, \"value\": amount}\n",
    "        )\n",
    "        trx_data = {\n",
    "            \"to\": recipient,\n",
    "            \"from\": account.address,\n",
    "            \"value\": amount,\n",
    "            \"gasPrice\": w3.eth.gasPrice,\n",
    "            \"gas\": gasEstimate,\n",
    "            \"nonce\": w3.eth.getTransactionCount(account.address)\n",
    "        }\n",
    "        return trx_data\n",
    "\n",
    "    if coin == BTCTEST:\n",
    "        return PrivateKeyTestnet.prepare_transaction(account.address, [(recipient, amount, BTC)])\n",
    "\n"
   ]
  },
  {
   "cell_type": "code",
   "execution_count": 28,
   "id": "ff45ddd9-d368-4419-8d2a-4812a7f22332",
   "metadata": {},
   "outputs": [],
   "source": [
    "# Create a function called `send_tx` that calls `create_tx`, signs and sends the transaction.\n",
    "def send_trx(coin, account, recipient, amount):\n",
    "    \"\"\"call create_trx, sign the transaction, then send it to the designated network\"\"\"\n",
    "    if coin == \"eth\": \n",
    "        trx_eth = create_trx(coin,account, recipient, amount)\n",
    "        sign = account.signTransaction(trx_eth)\n",
    "        result = w3.eth.sendRawTransaction(sign.rawTransaction)\n",
    "        print(result.hex())\n",
    "        return result.hex()\n",
    "    else:\n",
    "        trx_btctest= create_trx(coin,account,recipient,amount)\n",
    "        sign_trx_btctest = account.sign_transaction(trx_btctest)\n",
    "        from bit.network import NetworkAPI\n",
    "        NetworkAPI.broadcast_tx_testnet(sign_trx_btctest)       \n",
    "        return sign_trx_btctest"
   ]
  },
  {
   "cell_type": "code",
   "execution_count": 29,
   "id": "d6eb629e-4bc6-48a0-8a76-bfff6f85baaf",
   "metadata": {},
   "outputs": [
    {
     "name": "stdout",
     "output_type": "stream",
     "text": [
      "<PrivateKeyTestnet: mxcpHYVCcRUoeXT3ZboHwhv6AeUt1hPgD6>\n"
     ]
    }
   ],
   "source": [
    "print(btc_acc)"
   ]
  },
  {
   "cell_type": "code",
   "execution_count": 30,
   "id": "083f1547-0f8e-48dd-9d3c-e59874cb7848",
   "metadata": {},
   "outputs": [
    {
     "data": {
      "text/plain": [
       "'{\"unspents\":[{\"amount\":33510,\"confirmations\":0,\"script\":\"76a914bb95f2dd1a82e2f83d77004bbb9d08f2d45870b888ac\",\"txid\":\"d24d9f96a16cd71543d69cbc1246498de2ef5cdcb5881a41f06d3f67cf623ff8\",\"txindex\":1,\"type\":\"p2pkh\",\"vsize\":148,\"segwit\":false,\"sequence\":4294967295}],\"outputs\":[[\"msVCUnAjTZ6wiKUMwR9Up7rPjs6bc1LmPZ\",1],[\"mxcpHYVCcRUoeXT3ZboHwhv6AeUt1hPgD6\",10457]]}'"
      ]
     },
     "execution_count": 30,
     "metadata": {},
     "output_type": "execute_result"
    }
   ],
   "source": [
    "# create BTC transaction\n",
    "create_trx(BTCTEST,btc_acc,\"msVCUnAjTZ6wiKUMwR9Up7rPjs6bc1LmPZ\", 0.00000001)\n",
    "\n",
    "\n"
   ]
  },
  {
   "cell_type": "code",
   "execution_count": 31,
   "id": "7941b698-e9b8-4c07-9865-78bd6d53a203",
   "metadata": {},
   "outputs": [
    {
     "data": {
      "text/plain": [
       "'0100000001f83f62cf673f6df0411a88b5dc5cefe28d494612bc9cd64315d76ca1969f4dd2010000006b483045022100d67a787d98205a85925667693daa643db30e2c5abc7de87a60bbab50c3b04e3c02203865055a05eff478bc66f0cfee106ed39a79369dd63685c6af3783df923ac45301210253ceb56a6da2954b965e981ec065f1cd959d77255ed1109f2e23bac037e52725ffffffff0201000000000000001976a914834c84b9c171956e4b87cf2ff6bacbc545232c4e88acd9280000000000001976a914bb95f2dd1a82e2f83d77004bbb9d08f2d45870b888ac00000000'"
      ]
     },
     "execution_count": 31,
     "metadata": {},
     "output_type": "execute_result"
    }
   ],
   "source": [
    "#send BTC transaction\n",
    "send_trx(BTCTEST,btc_acc,'msVCUnAjTZ6wiKUMwR9Up7rPjs6bc1LmPZ',0.00000001)\n",
    "#mxcpHYVCcRUoeXT3ZboHwhv6AeUt1hPgD6"
   ]
  },
  {
   "cell_type": "code",
   "execution_count": 34,
   "id": "94464593-64b9-4f79-943c-63f8e302e2dc",
   "metadata": {},
   "outputs": [
    {
     "ename": "TypeError",
     "evalue": "Unsupported type: '<class 'float'>'.  Must be one of: bool, str, bytes, bytearrayor int.",
     "output_type": "error",
     "traceback": [
      "\u001b[0;31m---------------------------------------------------------------------------\u001b[0m",
      "\u001b[0;31mTypeError\u001b[0m                                 Traceback (most recent call last)",
      "\u001b[0;32m<ipython-input-34-eaa4e8e3fa54>\u001b[0m in \u001b[0;36m<module>\u001b[0;34m\u001b[0m\n\u001b[1;32m      1\u001b[0m \u001b[0;31m#create ETH transaction\u001b[0m\u001b[0;34m\u001b[0m\u001b[0;34m\u001b[0m\u001b[0;34m\u001b[0m\u001b[0m\n\u001b[0;32m----> 2\u001b[0;31m \u001b[0mcreate_trx\u001b[0m\u001b[0;34m(\u001b[0m\u001b[0mETH\u001b[0m\u001b[0;34m,\u001b[0m\u001b[0meth_acc\u001b[0m\u001b[0;34m,\u001b[0m\u001b[0;34m'07F597826b464919894F8aE6DA17C8796e01F250'\u001b[0m\u001b[0;34m,\u001b[0m\u001b[0;36m0.0000000000000001\u001b[0m\u001b[0;34m)\u001b[0m\u001b[0;34m\u001b[0m\u001b[0;34m\u001b[0m\u001b[0m\n\u001b[0m",
      "\u001b[0;32m<ipython-input-27-0cb11264e7bb>\u001b[0m in \u001b[0;36mcreate_trx\u001b[0;34m(coin, account, recipient, amount)\u001b[0m\n\u001b[1;32m      6\u001b[0m     \u001b[0;32mglobal\u001b[0m \u001b[0mtrx_data\u001b[0m\u001b[0;34m\u001b[0m\u001b[0;34m\u001b[0m\u001b[0m\n\u001b[1;32m      7\u001b[0m     \u001b[0;32mif\u001b[0m \u001b[0mcoin\u001b[0m \u001b[0;34m==\u001b[0m\u001b[0mETH\u001b[0m\u001b[0;34m:\u001b[0m\u001b[0;34m\u001b[0m\u001b[0;34m\u001b[0m\u001b[0m\n\u001b[0;32m----> 8\u001b[0;31m         gasEstimate = w3.eth.estimateGas(\n\u001b[0m\u001b[1;32m      9\u001b[0m             \u001b[0;34m{\u001b[0m\u001b[0;34m\"from\"\u001b[0m\u001b[0;34m:\u001b[0m \u001b[0maccount\u001b[0m\u001b[0;34m.\u001b[0m\u001b[0maddress\u001b[0m\u001b[0;34m,\u001b[0m \u001b[0;34m\"to\"\u001b[0m\u001b[0;34m:\u001b[0m \u001b[0mrecipient\u001b[0m\u001b[0;34m,\u001b[0m \u001b[0;34m\"value\"\u001b[0m\u001b[0;34m:\u001b[0m \u001b[0mamount\u001b[0m\u001b[0;34m}\u001b[0m\u001b[0;34m\u001b[0m\u001b[0;34m\u001b[0m\u001b[0m\n\u001b[1;32m     10\u001b[0m         )\n",
      "\u001b[0;32m~/opt/anaconda3/lib/python3.8/site-packages/web3/eth.py\u001b[0m in \u001b[0;36mestimate_gas\u001b[0;34m(self, transaction, block_identifier)\u001b[0m\n\u001b[1;32m    726\u001b[0m         \u001b[0mblock_identifier\u001b[0m\u001b[0;34m:\u001b[0m \u001b[0mOptional\u001b[0m\u001b[0;34m[\u001b[0m\u001b[0mBlockIdentifier\u001b[0m\u001b[0;34m]\u001b[0m \u001b[0;34m=\u001b[0m \u001b[0;32mNone\u001b[0m\u001b[0;34m\u001b[0m\u001b[0;34m\u001b[0m\u001b[0m\n\u001b[1;32m    727\u001b[0m     ) -> Wei:\n\u001b[0;32m--> 728\u001b[0;31m         \u001b[0;32mreturn\u001b[0m \u001b[0mself\u001b[0m\u001b[0;34m.\u001b[0m\u001b[0m_estimate_gas\u001b[0m\u001b[0;34m(\u001b[0m\u001b[0mtransaction\u001b[0m\u001b[0;34m,\u001b[0m \u001b[0mblock_identifier\u001b[0m\u001b[0;34m)\u001b[0m\u001b[0;34m\u001b[0m\u001b[0;34m\u001b[0m\u001b[0m\n\u001b[0m\u001b[1;32m    729\u001b[0m \u001b[0;34m\u001b[0m\u001b[0m\n\u001b[1;32m    730\u001b[0m     def fee_history(\n",
      "\u001b[0;32m~/opt/anaconda3/lib/python3.8/site-packages/web3/module.py\u001b[0m in \u001b[0;36mcaller\u001b[0;34m(*args, **kwargs)\u001b[0m\n\u001b[1;32m     51\u001b[0m     \u001b[0;32mdef\u001b[0m \u001b[0mcaller\u001b[0m\u001b[0;34m(\u001b[0m\u001b[0;34m*\u001b[0m\u001b[0margs\u001b[0m\u001b[0;34m:\u001b[0m \u001b[0mAny\u001b[0m\u001b[0;34m,\u001b[0m \u001b[0;34m**\u001b[0m\u001b[0mkwargs\u001b[0m\u001b[0;34m:\u001b[0m \u001b[0mAny\u001b[0m\u001b[0;34m)\u001b[0m \u001b[0;34m->\u001b[0m \u001b[0mUnion\u001b[0m\u001b[0;34m[\u001b[0m\u001b[0mTReturn\u001b[0m\u001b[0;34m,\u001b[0m \u001b[0mLogFilter\u001b[0m\u001b[0;34m]\u001b[0m\u001b[0;34m:\u001b[0m\u001b[0;34m\u001b[0m\u001b[0;34m\u001b[0m\u001b[0m\n\u001b[1;32m     52\u001b[0m         \u001b[0;32mtry\u001b[0m\u001b[0;34m:\u001b[0m\u001b[0;34m\u001b[0m\u001b[0;34m\u001b[0m\u001b[0m\n\u001b[0;32m---> 53\u001b[0;31m             \u001b[0;34m(\u001b[0m\u001b[0mmethod_str\u001b[0m\u001b[0;34m,\u001b[0m \u001b[0mparams\u001b[0m\u001b[0;34m)\u001b[0m\u001b[0;34m,\u001b[0m \u001b[0mresponse_formatters\u001b[0m \u001b[0;34m=\u001b[0m \u001b[0mmethod\u001b[0m\u001b[0;34m.\u001b[0m\u001b[0mprocess_params\u001b[0m\u001b[0;34m(\u001b[0m\u001b[0mmodule\u001b[0m\u001b[0;34m,\u001b[0m \u001b[0;34m*\u001b[0m\u001b[0margs\u001b[0m\u001b[0;34m,\u001b[0m \u001b[0;34m**\u001b[0m\u001b[0mkwargs\u001b[0m\u001b[0;34m)\u001b[0m  \u001b[0;31m# noqa: E501\u001b[0m\u001b[0;34m\u001b[0m\u001b[0;34m\u001b[0m\u001b[0m\n\u001b[0m\u001b[1;32m     54\u001b[0m         \u001b[0;32mexcept\u001b[0m \u001b[0m_UseExistingFilter\u001b[0m \u001b[0;32mas\u001b[0m \u001b[0merr\u001b[0m\u001b[0;34m:\u001b[0m\u001b[0;34m\u001b[0m\u001b[0;34m\u001b[0m\u001b[0m\n\u001b[1;32m     55\u001b[0m             \u001b[0;32mreturn\u001b[0m \u001b[0mLogFilter\u001b[0m\u001b[0;34m(\u001b[0m\u001b[0meth_module\u001b[0m\u001b[0;34m=\u001b[0m\u001b[0mmodule\u001b[0m\u001b[0;34m,\u001b[0m \u001b[0mfilter_id\u001b[0m\u001b[0;34m=\u001b[0m\u001b[0merr\u001b[0m\u001b[0;34m.\u001b[0m\u001b[0mfilter_id\u001b[0m\u001b[0;34m)\u001b[0m\u001b[0;34m\u001b[0m\u001b[0;34m\u001b[0m\u001b[0m\n",
      "\u001b[0;32m~/opt/anaconda3/lib/python3.8/site-packages/web3/method.py\u001b[0m in \u001b[0;36mprocess_params\u001b[0;34m(self, module, *args, **kwargs)\u001b[0m\n\u001b[1;32m    200\u001b[0m \u001b[0;34m\u001b[0m\u001b[0m\n\u001b[1;32m    201\u001b[0m         request = (method,\n\u001b[0;32m--> 202\u001b[0;31m                    _apply_request_formatters(params, self.request_formatters(method)))\n\u001b[0m\u001b[1;32m    203\u001b[0m \u001b[0;34m\u001b[0m\u001b[0m\n\u001b[1;32m    204\u001b[0m         \u001b[0;32mreturn\u001b[0m \u001b[0mrequest\u001b[0m\u001b[0;34m,\u001b[0m \u001b[0mresponse_formatters\u001b[0m\u001b[0;34m\u001b[0m\u001b[0;34m\u001b[0m\u001b[0m\n",
      "\u001b[0;32m~/opt/anaconda3/lib/python3.8/site-packages/eth_utils/functional.py\u001b[0m in \u001b[0;36minner\u001b[0;34m(*args, **kwargs)\u001b[0m\n\u001b[1;32m     43\u001b[0m         \u001b[0;34m@\u001b[0m\u001b[0mfunctools\u001b[0m\u001b[0;34m.\u001b[0m\u001b[0mwraps\u001b[0m\u001b[0;34m(\u001b[0m\u001b[0mfn\u001b[0m\u001b[0;34m)\u001b[0m\u001b[0;34m\u001b[0m\u001b[0;34m\u001b[0m\u001b[0m\n\u001b[1;32m     44\u001b[0m         \u001b[0;32mdef\u001b[0m \u001b[0minner\u001b[0m\u001b[0;34m(\u001b[0m\u001b[0;34m*\u001b[0m\u001b[0margs\u001b[0m\u001b[0;34m,\u001b[0m \u001b[0;34m**\u001b[0m\u001b[0mkwargs\u001b[0m\u001b[0;34m)\u001b[0m \u001b[0;34m->\u001b[0m \u001b[0mT\u001b[0m\u001b[0;34m:\u001b[0m  \u001b[0;31m# type: ignore\u001b[0m\u001b[0;34m\u001b[0m\u001b[0;34m\u001b[0m\u001b[0m\n\u001b[0;32m---> 45\u001b[0;31m             \u001b[0;32mreturn\u001b[0m \u001b[0mcallback\u001b[0m\u001b[0;34m(\u001b[0m\u001b[0mfn\u001b[0m\u001b[0;34m(\u001b[0m\u001b[0;34m*\u001b[0m\u001b[0margs\u001b[0m\u001b[0;34m,\u001b[0m \u001b[0;34m**\u001b[0m\u001b[0mkwargs\u001b[0m\u001b[0;34m)\u001b[0m\u001b[0;34m)\u001b[0m\u001b[0;34m\u001b[0m\u001b[0;34m\u001b[0m\u001b[0m\n\u001b[0m\u001b[1;32m     46\u001b[0m \u001b[0;34m\u001b[0m\u001b[0m\n\u001b[1;32m     47\u001b[0m         \u001b[0;32mreturn\u001b[0m \u001b[0minner\u001b[0m\u001b[0;34m\u001b[0m\u001b[0;34m\u001b[0m\u001b[0m\n",
      "\u001b[0;32m~/opt/anaconda3/lib/python3.8/site-packages/web3/method.py\u001b[0m in \u001b[0;36m_apply_request_formatters\u001b[0;34m(params, request_formatters)\u001b[0m\n\u001b[1;32m     50\u001b[0m ) -> Tuple[Any, ...]:\n\u001b[1;32m     51\u001b[0m     \u001b[0;32mif\u001b[0m \u001b[0mrequest_formatters\u001b[0m\u001b[0;34m:\u001b[0m\u001b[0;34m\u001b[0m\u001b[0;34m\u001b[0m\u001b[0m\n\u001b[0;32m---> 52\u001b[0;31m         \u001b[0mformatted_params\u001b[0m \u001b[0;34m=\u001b[0m \u001b[0mpipe\u001b[0m\u001b[0;34m(\u001b[0m\u001b[0mparams\u001b[0m\u001b[0;34m,\u001b[0m \u001b[0mrequest_formatters\u001b[0m\u001b[0;34m)\u001b[0m\u001b[0;34m\u001b[0m\u001b[0;34m\u001b[0m\u001b[0m\n\u001b[0m\u001b[1;32m     53\u001b[0m         \u001b[0;32mreturn\u001b[0m \u001b[0mformatted_params\u001b[0m\u001b[0;34m\u001b[0m\u001b[0;34m\u001b[0m\u001b[0m\n\u001b[1;32m     54\u001b[0m     \u001b[0;32mreturn\u001b[0m \u001b[0mparams\u001b[0m\u001b[0;34m\u001b[0m\u001b[0;34m\u001b[0m\u001b[0m\n",
      "\u001b[0;32m~/opt/anaconda3/lib/python3.8/site-packages/cytoolz/functoolz.pyx\u001b[0m in \u001b[0;36mcytoolz.functoolz.pipe\u001b[0;34m()\u001b[0m\n",
      "\u001b[0;32m~/opt/anaconda3/lib/python3.8/site-packages/cytoolz/functoolz.pyx\u001b[0m in \u001b[0;36mcytoolz.functoolz.c_pipe\u001b[0;34m()\u001b[0m\n",
      "\u001b[0;32m~/opt/anaconda3/lib/python3.8/site-packages/cytoolz/functoolz.pyx\u001b[0m in \u001b[0;36mcytoolz.functoolz.Compose.__call__\u001b[0;34m()\u001b[0m\n",
      "\u001b[0;32m~/opt/anaconda3/lib/python3.8/site-packages/cytoolz/functoolz.pyx\u001b[0m in \u001b[0;36mcytoolz.functoolz.curry.__call__\u001b[0;34m()\u001b[0m\n",
      "\u001b[0;32m~/opt/anaconda3/lib/python3.8/site-packages/cytoolz/functoolz.pyx\u001b[0m in \u001b[0;36mcytoolz.functoolz.curry.__call__\u001b[0;34m()\u001b[0m\n",
      "\u001b[0;32m~/opt/anaconda3/lib/python3.8/site-packages/eth_utils/decorators.py\u001b[0m in \u001b[0;36mwrapper\u001b[0;34m(*args, **kwargs)\u001b[0m\n\u001b[1;32m     89\u001b[0m             \u001b[0mresult\u001b[0m \u001b[0;34m=\u001b[0m \u001b[0mto_wrap\u001b[0m\u001b[0;34m(\u001b[0m\u001b[0;34m*\u001b[0m\u001b[0margs\u001b[0m\u001b[0;34m,\u001b[0m \u001b[0;34m**\u001b[0m\u001b[0mkwargs\u001b[0m\u001b[0;34m)\u001b[0m\u001b[0;34m\u001b[0m\u001b[0;34m\u001b[0m\u001b[0m\n\u001b[1;32m     90\u001b[0m             \u001b[0mReturnType\u001b[0m \u001b[0;34m=\u001b[0m \u001b[0mtype\u001b[0m\u001b[0;34m(\u001b[0m\u001b[0margs\u001b[0m\u001b[0;34m[\u001b[0m\u001b[0mat_position\u001b[0m\u001b[0;34m]\u001b[0m\u001b[0;34m)\u001b[0m\u001b[0;34m\u001b[0m\u001b[0;34m\u001b[0m\u001b[0m\n\u001b[0;32m---> 91\u001b[0;31m             \u001b[0;32mreturn\u001b[0m \u001b[0mReturnType\u001b[0m\u001b[0;34m(\u001b[0m\u001b[0mresult\u001b[0m\u001b[0;34m)\u001b[0m  \u001b[0;31m# type: ignore\u001b[0m\u001b[0;34m\u001b[0m\u001b[0;34m\u001b[0m\u001b[0m\n\u001b[0m\u001b[1;32m     92\u001b[0m \u001b[0;34m\u001b[0m\u001b[0m\n\u001b[1;32m     93\u001b[0m         \u001b[0;32mreturn\u001b[0m \u001b[0mwrapper\u001b[0m\u001b[0;34m\u001b[0m\u001b[0;34m\u001b[0m\u001b[0m\n",
      "\u001b[0;32m~/opt/anaconda3/lib/python3.8/site-packages/eth_utils/applicators.py\u001b[0m in \u001b[0;36mapply_formatter_at_index\u001b[0;34m(formatter, at_index, value)\u001b[0m\n\u001b[1;32m     20\u001b[0m     \u001b[0;32mfor\u001b[0m \u001b[0mindex\u001b[0m\u001b[0;34m,\u001b[0m \u001b[0mitem\u001b[0m \u001b[0;32min\u001b[0m \u001b[0menumerate\u001b[0m\u001b[0;34m(\u001b[0m\u001b[0mvalue\u001b[0m\u001b[0;34m)\u001b[0m\u001b[0;34m:\u001b[0m\u001b[0;34m\u001b[0m\u001b[0;34m\u001b[0m\u001b[0m\n\u001b[1;32m     21\u001b[0m         \u001b[0;32mif\u001b[0m \u001b[0mindex\u001b[0m \u001b[0;34m==\u001b[0m \u001b[0mat_index\u001b[0m\u001b[0;34m:\u001b[0m\u001b[0;34m\u001b[0m\u001b[0;34m\u001b[0m\u001b[0m\n\u001b[0;32m---> 22\u001b[0;31m             \u001b[0;32myield\u001b[0m \u001b[0mformatter\u001b[0m\u001b[0;34m(\u001b[0m\u001b[0mitem\u001b[0m\u001b[0;34m)\u001b[0m\u001b[0;34m\u001b[0m\u001b[0;34m\u001b[0m\u001b[0m\n\u001b[0m\u001b[1;32m     23\u001b[0m         \u001b[0;32melse\u001b[0m\u001b[0;34m:\u001b[0m\u001b[0;34m\u001b[0m\u001b[0;34m\u001b[0m\u001b[0m\n\u001b[1;32m     24\u001b[0m             \u001b[0;32myield\u001b[0m \u001b[0mitem\u001b[0m\u001b[0;34m\u001b[0m\u001b[0;34m\u001b[0m\u001b[0m\n",
      "\u001b[0;32m~/opt/anaconda3/lib/python3.8/site-packages/cytoolz/functoolz.pyx\u001b[0m in \u001b[0;36mcytoolz.functoolz.curry.__call__\u001b[0;34m()\u001b[0m\n",
      "\u001b[0;32m~/opt/anaconda3/lib/python3.8/site-packages/cytoolz/functoolz.pyx\u001b[0m in \u001b[0;36mcytoolz.functoolz.curry.__call__\u001b[0;34m()\u001b[0m\n",
      "\u001b[0;32m~/opt/anaconda3/lib/python3.8/site-packages/web3/_utils/rpc_abi.py\u001b[0m in \u001b[0;36mapply_abi_formatters_to_dict\u001b[0;34m(normalizers, abi_dict, data)\u001b[0m\n\u001b[1;32m    214\u001b[0m ) -> Dict[Any, Any]:\n\u001b[1;32m    215\u001b[0m     \u001b[0mfields\u001b[0m \u001b[0;34m=\u001b[0m \u001b[0mlist\u001b[0m\u001b[0;34m(\u001b[0m\u001b[0mset\u001b[0m\u001b[0;34m(\u001b[0m\u001b[0mabi_dict\u001b[0m\u001b[0;34m.\u001b[0m\u001b[0mkeys\u001b[0m\u001b[0;34m(\u001b[0m\u001b[0;34m)\u001b[0m\u001b[0;34m)\u001b[0m \u001b[0;34m&\u001b[0m \u001b[0mset\u001b[0m\u001b[0;34m(\u001b[0m\u001b[0mdata\u001b[0m\u001b[0;34m.\u001b[0m\u001b[0mkeys\u001b[0m\u001b[0;34m(\u001b[0m\u001b[0;34m)\u001b[0m\u001b[0;34m)\u001b[0m\u001b[0;34m)\u001b[0m\u001b[0;34m\u001b[0m\u001b[0;34m\u001b[0m\u001b[0m\n\u001b[0;32m--> 216\u001b[0;31m     formatted_values = map_abi_data(\n\u001b[0m\u001b[1;32m    217\u001b[0m         \u001b[0mnormalizers\u001b[0m\u001b[0;34m,\u001b[0m\u001b[0;34m\u001b[0m\u001b[0;34m\u001b[0m\u001b[0m\n\u001b[1;32m    218\u001b[0m         \u001b[0;34m[\u001b[0m\u001b[0mabi_dict\u001b[0m\u001b[0;34m[\u001b[0m\u001b[0mfield\u001b[0m\u001b[0;34m]\u001b[0m \u001b[0;32mfor\u001b[0m \u001b[0mfield\u001b[0m \u001b[0;32min\u001b[0m \u001b[0mfields\u001b[0m\u001b[0;34m]\u001b[0m\u001b[0;34m,\u001b[0m\u001b[0;34m\u001b[0m\u001b[0;34m\u001b[0m\u001b[0m\n",
      "\u001b[0;32m~/opt/anaconda3/lib/python3.8/site-packages/cytoolz/functoolz.pyx\u001b[0m in \u001b[0;36mcytoolz.functoolz.curry.__call__\u001b[0;34m()\u001b[0m\n",
      "\u001b[0;32m~/opt/anaconda3/lib/python3.8/site-packages/cytoolz/functoolz.pyx\u001b[0m in \u001b[0;36mcytoolz.functoolz.curry.__call__\u001b[0;34m()\u001b[0m\n",
      "\u001b[0;32m~/opt/anaconda3/lib/python3.8/site-packages/web3/_utils/abi.py\u001b[0m in \u001b[0;36mmap_abi_data\u001b[0;34m(normalizers, types, data)\u001b[0m\n\u001b[1;32m    797\u001b[0m     )\n\u001b[1;32m    798\u001b[0m \u001b[0;34m\u001b[0m\u001b[0m\n\u001b[0;32m--> 799\u001b[0;31m     \u001b[0;32mreturn\u001b[0m \u001b[0mpipe\u001b[0m\u001b[0;34m(\u001b[0m\u001b[0mdata\u001b[0m\u001b[0;34m,\u001b[0m \u001b[0;34m*\u001b[0m\u001b[0mpipeline\u001b[0m\u001b[0;34m)\u001b[0m\u001b[0;34m\u001b[0m\u001b[0;34m\u001b[0m\u001b[0m\n\u001b[0m\u001b[1;32m    800\u001b[0m \u001b[0;34m\u001b[0m\u001b[0m\n\u001b[1;32m    801\u001b[0m \u001b[0;34m\u001b[0m\u001b[0m\n",
      "\u001b[0;32m~/opt/anaconda3/lib/python3.8/site-packages/cytoolz/functoolz.pyx\u001b[0m in \u001b[0;36mcytoolz.functoolz.pipe\u001b[0;34m()\u001b[0m\n",
      "\u001b[0;32m~/opt/anaconda3/lib/python3.8/site-packages/cytoolz/functoolz.pyx\u001b[0m in \u001b[0;36mcytoolz.functoolz.c_pipe\u001b[0;34m()\u001b[0m\n",
      "\u001b[0;32m~/opt/anaconda3/lib/python3.8/site-packages/cytoolz/functoolz.pyx\u001b[0m in \u001b[0;36mcytoolz.functoolz.curry.__call__\u001b[0;34m()\u001b[0m\n",
      "\u001b[0;32m~/opt/anaconda3/lib/python3.8/site-packages/cytoolz/functoolz.pyx\u001b[0m in \u001b[0;36mcytoolz.functoolz.curry.__call__\u001b[0;34m()\u001b[0m\n",
      "\u001b[0;32m~/opt/anaconda3/lib/python3.8/site-packages/web3/_utils/abi.py\u001b[0m in \u001b[0;36mdata_tree_map\u001b[0;34m(func, data_tree)\u001b[0m\n\u001b[1;32m    831\u001b[0m         \u001b[0;32melse\u001b[0m\u001b[0;34m:\u001b[0m\u001b[0;34m\u001b[0m\u001b[0;34m\u001b[0m\u001b[0m\n\u001b[1;32m    832\u001b[0m             \u001b[0;32mreturn\u001b[0m \u001b[0melements\u001b[0m\u001b[0;34m\u001b[0m\u001b[0;34m\u001b[0m\u001b[0m\n\u001b[0;32m--> 833\u001b[0;31m     \u001b[0;32mreturn\u001b[0m \u001b[0mrecursive_map\u001b[0m\u001b[0;34m(\u001b[0m\u001b[0mmap_to_typed_data\u001b[0m\u001b[0;34m,\u001b[0m \u001b[0mdata_tree\u001b[0m\u001b[0;34m)\u001b[0m\u001b[0;34m\u001b[0m\u001b[0;34m\u001b[0m\u001b[0m\n\u001b[0m\u001b[1;32m    834\u001b[0m \u001b[0;34m\u001b[0m\u001b[0m\n\u001b[1;32m    835\u001b[0m \u001b[0;34m\u001b[0m\u001b[0m\n",
      "\u001b[0;32m~/opt/anaconda3/lib/python3.8/site-packages/web3/_utils/decorators.py\u001b[0m in \u001b[0;36mwrapped\u001b[0;34m(*args)\u001b[0m\n\u001b[1;32m     28\u001b[0m         \u001b[0mto_wrap\u001b[0m\u001b[0;34m.\u001b[0m\u001b[0m__already_called\u001b[0m\u001b[0;34m[\u001b[0m\u001b[0mthread_local_args\u001b[0m\u001b[0;34m]\u001b[0m \u001b[0;34m=\u001b[0m \u001b[0;32mTrue\u001b[0m  \u001b[0;31m# type: ignore\u001b[0m\u001b[0;34m\u001b[0m\u001b[0;34m\u001b[0m\u001b[0m\n\u001b[1;32m     29\u001b[0m         \u001b[0;32mtry\u001b[0m\u001b[0;34m:\u001b[0m\u001b[0;34m\u001b[0m\u001b[0;34m\u001b[0m\u001b[0m\n\u001b[0;32m---> 30\u001b[0;31m             \u001b[0mwrapped_val\u001b[0m \u001b[0;34m=\u001b[0m \u001b[0mto_wrap\u001b[0m\u001b[0;34m(\u001b[0m\u001b[0;34m*\u001b[0m\u001b[0margs\u001b[0m\u001b[0;34m)\u001b[0m\u001b[0;34m\u001b[0m\u001b[0;34m\u001b[0m\u001b[0m\n\u001b[0m\u001b[1;32m     31\u001b[0m         \u001b[0;32mfinally\u001b[0m\u001b[0;34m:\u001b[0m\u001b[0;34m\u001b[0m\u001b[0;34m\u001b[0m\u001b[0m\n\u001b[1;32m     32\u001b[0m             \u001b[0;32mdel\u001b[0m \u001b[0mto_wrap\u001b[0m\u001b[0;34m.\u001b[0m\u001b[0m__already_called\u001b[0m\u001b[0;34m[\u001b[0m\u001b[0mthread_local_args\u001b[0m\u001b[0;34m]\u001b[0m  \u001b[0;31m# type: ignore\u001b[0m\u001b[0;34m\u001b[0m\u001b[0;34m\u001b[0m\u001b[0m\n",
      "\u001b[0;32m~/opt/anaconda3/lib/python3.8/site-packages/web3/_utils/formatters.py\u001b[0m in \u001b[0;36mrecursive_map\u001b[0;34m(func, data)\u001b[0m\n\u001b[1;32m     87\u001b[0m     \u001b[0;32mdef\u001b[0m \u001b[0mrecurse\u001b[0m\u001b[0;34m(\u001b[0m\u001b[0mitem\u001b[0m\u001b[0;34m:\u001b[0m \u001b[0mAny\u001b[0m\u001b[0;34m)\u001b[0m \u001b[0;34m->\u001b[0m \u001b[0mTReturn\u001b[0m\u001b[0;34m:\u001b[0m\u001b[0;34m\u001b[0m\u001b[0;34m\u001b[0m\u001b[0m\n\u001b[1;32m     88\u001b[0m         \u001b[0;32mreturn\u001b[0m \u001b[0mrecursive_map\u001b[0m\u001b[0;34m(\u001b[0m\u001b[0mfunc\u001b[0m\u001b[0;34m,\u001b[0m \u001b[0mitem\u001b[0m\u001b[0;34m)\u001b[0m\u001b[0;34m\u001b[0m\u001b[0;34m\u001b[0m\u001b[0m\n\u001b[0;32m---> 89\u001b[0;31m     \u001b[0mitems_mapped\u001b[0m \u001b[0;34m=\u001b[0m \u001b[0mmap_collection\u001b[0m\u001b[0;34m(\u001b[0m\u001b[0mrecurse\u001b[0m\u001b[0;34m,\u001b[0m \u001b[0mdata\u001b[0m\u001b[0;34m)\u001b[0m\u001b[0;34m\u001b[0m\u001b[0;34m\u001b[0m\u001b[0m\n\u001b[0m\u001b[1;32m     90\u001b[0m     \u001b[0;32mreturn\u001b[0m \u001b[0mfunc\u001b[0m\u001b[0;34m(\u001b[0m\u001b[0mitems_mapped\u001b[0m\u001b[0;34m)\u001b[0m\u001b[0;34m\u001b[0m\u001b[0;34m\u001b[0m\u001b[0m\n\u001b[1;32m     91\u001b[0m \u001b[0;34m\u001b[0m\u001b[0m\n",
      "\u001b[0;32m~/opt/anaconda3/lib/python3.8/site-packages/web3/_utils/formatters.py\u001b[0m in \u001b[0;36mmap_collection\u001b[0;34m(func, collection)\u001b[0m\n\u001b[1;32m     74\u001b[0m         \u001b[0;32mreturn\u001b[0m \u001b[0mcollection\u001b[0m\u001b[0;34m\u001b[0m\u001b[0;34m\u001b[0m\u001b[0m\n\u001b[1;32m     75\u001b[0m     \u001b[0;32melif\u001b[0m \u001b[0misinstance\u001b[0m\u001b[0;34m(\u001b[0m\u001b[0mcollection\u001b[0m\u001b[0;34m,\u001b[0m \u001b[0mIterable\u001b[0m\u001b[0;34m)\u001b[0m\u001b[0;34m:\u001b[0m\u001b[0;34m\u001b[0m\u001b[0;34m\u001b[0m\u001b[0m\n\u001b[0;32m---> 76\u001b[0;31m         \u001b[0;32mreturn\u001b[0m \u001b[0mdatatype\u001b[0m\u001b[0;34m(\u001b[0m\u001b[0mmap\u001b[0m\u001b[0;34m(\u001b[0m\u001b[0mfunc\u001b[0m\u001b[0;34m,\u001b[0m \u001b[0mcollection\u001b[0m\u001b[0;34m)\u001b[0m\u001b[0;34m)\u001b[0m\u001b[0;34m\u001b[0m\u001b[0;34m\u001b[0m\u001b[0m\n\u001b[0m\u001b[1;32m     77\u001b[0m     \u001b[0;32melse\u001b[0m\u001b[0;34m:\u001b[0m\u001b[0;34m\u001b[0m\u001b[0;34m\u001b[0m\u001b[0m\n\u001b[1;32m     78\u001b[0m         \u001b[0;32mreturn\u001b[0m \u001b[0mcollection\u001b[0m\u001b[0;34m\u001b[0m\u001b[0;34m\u001b[0m\u001b[0m\n",
      "\u001b[0;32m~/opt/anaconda3/lib/python3.8/site-packages/web3/_utils/formatters.py\u001b[0m in \u001b[0;36mrecurse\u001b[0;34m(item)\u001b[0m\n\u001b[1;32m     86\u001b[0m     \"\"\"\n\u001b[1;32m     87\u001b[0m     \u001b[0;32mdef\u001b[0m \u001b[0mrecurse\u001b[0m\u001b[0;34m(\u001b[0m\u001b[0mitem\u001b[0m\u001b[0;34m:\u001b[0m \u001b[0mAny\u001b[0m\u001b[0;34m)\u001b[0m \u001b[0;34m->\u001b[0m \u001b[0mTReturn\u001b[0m\u001b[0;34m:\u001b[0m\u001b[0;34m\u001b[0m\u001b[0;34m\u001b[0m\u001b[0m\n\u001b[0;32m---> 88\u001b[0;31m         \u001b[0;32mreturn\u001b[0m \u001b[0mrecursive_map\u001b[0m\u001b[0;34m(\u001b[0m\u001b[0mfunc\u001b[0m\u001b[0;34m,\u001b[0m \u001b[0mitem\u001b[0m\u001b[0;34m)\u001b[0m\u001b[0;34m\u001b[0m\u001b[0;34m\u001b[0m\u001b[0m\n\u001b[0m\u001b[1;32m     89\u001b[0m     \u001b[0mitems_mapped\u001b[0m \u001b[0;34m=\u001b[0m \u001b[0mmap_collection\u001b[0m\u001b[0;34m(\u001b[0m\u001b[0mrecurse\u001b[0m\u001b[0;34m,\u001b[0m \u001b[0mdata\u001b[0m\u001b[0;34m)\u001b[0m\u001b[0;34m\u001b[0m\u001b[0;34m\u001b[0m\u001b[0m\n\u001b[1;32m     90\u001b[0m     \u001b[0;32mreturn\u001b[0m \u001b[0mfunc\u001b[0m\u001b[0;34m(\u001b[0m\u001b[0mitems_mapped\u001b[0m\u001b[0;34m)\u001b[0m\u001b[0;34m\u001b[0m\u001b[0;34m\u001b[0m\u001b[0m\n",
      "\u001b[0;32m~/opt/anaconda3/lib/python3.8/site-packages/web3/_utils/decorators.py\u001b[0m in \u001b[0;36mwrapped\u001b[0;34m(*args)\u001b[0m\n\u001b[1;32m     28\u001b[0m         \u001b[0mto_wrap\u001b[0m\u001b[0;34m.\u001b[0m\u001b[0m__already_called\u001b[0m\u001b[0;34m[\u001b[0m\u001b[0mthread_local_args\u001b[0m\u001b[0;34m]\u001b[0m \u001b[0;34m=\u001b[0m \u001b[0;32mTrue\u001b[0m  \u001b[0;31m# type: ignore\u001b[0m\u001b[0;34m\u001b[0m\u001b[0;34m\u001b[0m\u001b[0m\n\u001b[1;32m     29\u001b[0m         \u001b[0;32mtry\u001b[0m\u001b[0;34m:\u001b[0m\u001b[0;34m\u001b[0m\u001b[0;34m\u001b[0m\u001b[0m\n\u001b[0;32m---> 30\u001b[0;31m             \u001b[0mwrapped_val\u001b[0m \u001b[0;34m=\u001b[0m \u001b[0mto_wrap\u001b[0m\u001b[0;34m(\u001b[0m\u001b[0;34m*\u001b[0m\u001b[0margs\u001b[0m\u001b[0;34m)\u001b[0m\u001b[0;34m\u001b[0m\u001b[0;34m\u001b[0m\u001b[0m\n\u001b[0m\u001b[1;32m     31\u001b[0m         \u001b[0;32mfinally\u001b[0m\u001b[0;34m:\u001b[0m\u001b[0;34m\u001b[0m\u001b[0;34m\u001b[0m\u001b[0m\n\u001b[1;32m     32\u001b[0m             \u001b[0;32mdel\u001b[0m \u001b[0mto_wrap\u001b[0m\u001b[0;34m.\u001b[0m\u001b[0m__already_called\u001b[0m\u001b[0;34m[\u001b[0m\u001b[0mthread_local_args\u001b[0m\u001b[0;34m]\u001b[0m  \u001b[0;31m# type: ignore\u001b[0m\u001b[0;34m\u001b[0m\u001b[0;34m\u001b[0m\u001b[0m\n",
      "\u001b[0;32m~/opt/anaconda3/lib/python3.8/site-packages/web3/_utils/formatters.py\u001b[0m in \u001b[0;36mrecursive_map\u001b[0;34m(func, data)\u001b[0m\n\u001b[1;32m     88\u001b[0m         \u001b[0;32mreturn\u001b[0m \u001b[0mrecursive_map\u001b[0m\u001b[0;34m(\u001b[0m\u001b[0mfunc\u001b[0m\u001b[0;34m,\u001b[0m \u001b[0mitem\u001b[0m\u001b[0;34m)\u001b[0m\u001b[0;34m\u001b[0m\u001b[0;34m\u001b[0m\u001b[0m\n\u001b[1;32m     89\u001b[0m     \u001b[0mitems_mapped\u001b[0m \u001b[0;34m=\u001b[0m \u001b[0mmap_collection\u001b[0m\u001b[0;34m(\u001b[0m\u001b[0mrecurse\u001b[0m\u001b[0;34m,\u001b[0m \u001b[0mdata\u001b[0m\u001b[0;34m)\u001b[0m\u001b[0;34m\u001b[0m\u001b[0;34m\u001b[0m\u001b[0m\n\u001b[0;32m---> 90\u001b[0;31m     \u001b[0;32mreturn\u001b[0m \u001b[0mfunc\u001b[0m\u001b[0;34m(\u001b[0m\u001b[0mitems_mapped\u001b[0m\u001b[0;34m)\u001b[0m\u001b[0;34m\u001b[0m\u001b[0;34m\u001b[0m\u001b[0m\n\u001b[0m\u001b[1;32m     91\u001b[0m \u001b[0;34m\u001b[0m\u001b[0m\n\u001b[1;32m     92\u001b[0m \u001b[0;34m\u001b[0m\u001b[0m\n",
      "\u001b[0;32m~/opt/anaconda3/lib/python3.8/site-packages/web3/_utils/abi.py\u001b[0m in \u001b[0;36mmap_to_typed_data\u001b[0;34m(elements)\u001b[0m\n\u001b[1;32m    828\u001b[0m     \u001b[0;32mdef\u001b[0m \u001b[0mmap_to_typed_data\u001b[0m\u001b[0;34m(\u001b[0m\u001b[0melements\u001b[0m\u001b[0;34m:\u001b[0m \u001b[0mAny\u001b[0m\u001b[0;34m)\u001b[0m \u001b[0;34m->\u001b[0m \u001b[0;34m\"ABITypedData\"\u001b[0m\u001b[0;34m:\u001b[0m\u001b[0;34m\u001b[0m\u001b[0;34m\u001b[0m\u001b[0m\n\u001b[1;32m    829\u001b[0m         \u001b[0;32mif\u001b[0m \u001b[0misinstance\u001b[0m\u001b[0;34m(\u001b[0m\u001b[0melements\u001b[0m\u001b[0;34m,\u001b[0m \u001b[0mABITypedData\u001b[0m\u001b[0;34m)\u001b[0m \u001b[0;32mand\u001b[0m \u001b[0melements\u001b[0m\u001b[0;34m.\u001b[0m\u001b[0mabi_type\u001b[0m \u001b[0;32mis\u001b[0m \u001b[0;32mnot\u001b[0m \u001b[0;32mNone\u001b[0m\u001b[0;34m:\u001b[0m\u001b[0;34m\u001b[0m\u001b[0;34m\u001b[0m\u001b[0m\n\u001b[0;32m--> 830\u001b[0;31m             \u001b[0;32mreturn\u001b[0m \u001b[0mABITypedData\u001b[0m\u001b[0;34m(\u001b[0m\u001b[0mfunc\u001b[0m\u001b[0;34m(\u001b[0m\u001b[0;34m*\u001b[0m\u001b[0melements\u001b[0m\u001b[0;34m)\u001b[0m\u001b[0;34m)\u001b[0m\u001b[0;34m\u001b[0m\u001b[0;34m\u001b[0m\u001b[0m\n\u001b[0m\u001b[1;32m    831\u001b[0m         \u001b[0;32melse\u001b[0m\u001b[0;34m:\u001b[0m\u001b[0;34m\u001b[0m\u001b[0;34m\u001b[0m\u001b[0m\n\u001b[1;32m    832\u001b[0m             \u001b[0;32mreturn\u001b[0m \u001b[0melements\u001b[0m\u001b[0;34m\u001b[0m\u001b[0;34m\u001b[0m\u001b[0m\n",
      "\u001b[0;32m~/opt/anaconda3/lib/python3.8/site-packages/web3/_utils/normalizers.py\u001b[0m in \u001b[0;36mwrapper\u001b[0;34m(type_str, data)\u001b[0m\n\u001b[1;32m     76\u001b[0m     \u001b[0;34m@\u001b[0m\u001b[0mfunctools\u001b[0m\u001b[0;34m.\u001b[0m\u001b[0mwraps\u001b[0m\u001b[0;34m(\u001b[0m\u001b[0mto_wrap\u001b[0m\u001b[0;34m)\u001b[0m\u001b[0;34m\u001b[0m\u001b[0;34m\u001b[0m\u001b[0m\n\u001b[1;32m     77\u001b[0m     \u001b[0;32mdef\u001b[0m \u001b[0mwrapper\u001b[0m\u001b[0;34m(\u001b[0m\u001b[0mtype_str\u001b[0m\u001b[0;34m:\u001b[0m \u001b[0mTypeStr\u001b[0m\u001b[0;34m,\u001b[0m \u001b[0mdata\u001b[0m\u001b[0;34m:\u001b[0m \u001b[0mAny\u001b[0m\u001b[0;34m)\u001b[0m \u001b[0;34m->\u001b[0m \u001b[0mTuple\u001b[0m\u001b[0;34m[\u001b[0m\u001b[0mTypeStr\u001b[0m\u001b[0;34m,\u001b[0m \u001b[0mAny\u001b[0m\u001b[0;34m]\u001b[0m\u001b[0;34m:\u001b[0m\u001b[0;34m\u001b[0m\u001b[0;34m\u001b[0m\u001b[0m\n\u001b[0;32m---> 78\u001b[0;31m         \u001b[0mmodified\u001b[0m \u001b[0;34m=\u001b[0m \u001b[0mto_wrap\u001b[0m\u001b[0;34m(\u001b[0m\u001b[0mtype_str\u001b[0m\u001b[0;34m,\u001b[0m \u001b[0mdata\u001b[0m\u001b[0;34m)\u001b[0m\u001b[0;34m\u001b[0m\u001b[0;34m\u001b[0m\u001b[0m\n\u001b[0m\u001b[1;32m     79\u001b[0m         \u001b[0;32mif\u001b[0m \u001b[0mmodified\u001b[0m \u001b[0;32mis\u001b[0m \u001b[0;32mNone\u001b[0m\u001b[0;34m:\u001b[0m\u001b[0;34m\u001b[0m\u001b[0;34m\u001b[0m\u001b[0m\n\u001b[1;32m     80\u001b[0m             \u001b[0;32mreturn\u001b[0m \u001b[0mtype_str\u001b[0m\u001b[0;34m,\u001b[0m \u001b[0mdata\u001b[0m\u001b[0;34m\u001b[0m\u001b[0;34m\u001b[0m\u001b[0m\n",
      "\u001b[0;32m~/opt/anaconda3/lib/python3.8/site-packages/web3/_utils/normalizers.py\u001b[0m in \u001b[0;36mnew_normalizer\u001b[0;34m(type_str, data)\u001b[0m\n\u001b[1;32m    127\u001b[0m             \u001b[0;32mreturn\u001b[0m \u001b[0mtype_str\u001b[0m\u001b[0;34m,\u001b[0m \u001b[0mdata\u001b[0m\u001b[0;34m\u001b[0m\u001b[0;34m\u001b[0m\u001b[0m\n\u001b[1;32m    128\u001b[0m \u001b[0;34m\u001b[0m\u001b[0m\n\u001b[0;32m--> 129\u001b[0;31m         \u001b[0;32mreturn\u001b[0m \u001b[0mold_normalizer\u001b[0m\u001b[0;34m(\u001b[0m\u001b[0mabi_type\u001b[0m\u001b[0;34m,\u001b[0m \u001b[0mtype_str\u001b[0m\u001b[0;34m,\u001b[0m \u001b[0mdata\u001b[0m\u001b[0;34m)\u001b[0m\u001b[0;34m\u001b[0m\u001b[0;34m\u001b[0m\u001b[0m\n\u001b[0m\u001b[1;32m    130\u001b[0m \u001b[0;34m\u001b[0m\u001b[0m\n\u001b[1;32m    131\u001b[0m     \u001b[0;32mreturn\u001b[0m \u001b[0mnew_normalizer\u001b[0m\u001b[0;34m\u001b[0m\u001b[0;34m\u001b[0m\u001b[0m\n",
      "\u001b[0;32m~/opt/anaconda3/lib/python3.8/site-packages/web3/_utils/normalizers.py\u001b[0m in \u001b[0;36mabi_int_to_hex\u001b[0;34m(abi_type, type_str, data)\u001b[0m\n\u001b[1;32m    163\u001b[0m     \u001b[0;32mif\u001b[0m \u001b[0mabi_type\u001b[0m\u001b[0;34m.\u001b[0m\u001b[0mbase\u001b[0m \u001b[0;34m==\u001b[0m \u001b[0;34m'uint'\u001b[0m \u001b[0;32mand\u001b[0m \u001b[0;32mnot\u001b[0m \u001b[0mabi_type\u001b[0m\u001b[0;34m.\u001b[0m\u001b[0mis_array\u001b[0m\u001b[0;34m:\u001b[0m\u001b[0;34m\u001b[0m\u001b[0;34m\u001b[0m\u001b[0m\n\u001b[1;32m    164\u001b[0m         \u001b[0;31m# double check?\u001b[0m\u001b[0;34m\u001b[0m\u001b[0;34m\u001b[0m\u001b[0;34m\u001b[0m\u001b[0m\n\u001b[0;32m--> 165\u001b[0;31m         \u001b[0;32mreturn\u001b[0m \u001b[0mtype_str\u001b[0m\u001b[0;34m,\u001b[0m \u001b[0mhexstr_if_str\u001b[0m\u001b[0;34m(\u001b[0m\u001b[0mto_hex\u001b[0m\u001b[0;34m,\u001b[0m \u001b[0mdata\u001b[0m\u001b[0;34m)\u001b[0m\u001b[0;34m\u001b[0m\u001b[0;34m\u001b[0m\u001b[0m\n\u001b[0m\u001b[1;32m    166\u001b[0m     \u001b[0;32mreturn\u001b[0m \u001b[0;32mNone\u001b[0m\u001b[0;34m\u001b[0m\u001b[0;34m\u001b[0m\u001b[0m\n\u001b[1;32m    167\u001b[0m \u001b[0;34m\u001b[0m\u001b[0m\n",
      "\u001b[0;32m~/opt/anaconda3/lib/python3.8/site-packages/cytoolz/functoolz.pyx\u001b[0m in \u001b[0;36mcytoolz.functoolz.curry.__call__\u001b[0;34m()\u001b[0m\n",
      "\u001b[0;32m~/opt/anaconda3/lib/python3.8/site-packages/cytoolz/functoolz.pyx\u001b[0m in \u001b[0;36mcytoolz.functoolz.curry.__call__\u001b[0;34m()\u001b[0m\n",
      "\u001b[0;32m~/opt/anaconda3/lib/python3.8/site-packages/web3/_utils/encoding.py\u001b[0m in \u001b[0;36mhexstr_if_str\u001b[0;34m(to_type, hexstr_or_primitive)\u001b[0m\n\u001b[1;32m    176\u001b[0m     \u001b[0;32melse\u001b[0m\u001b[0;34m:\u001b[0m\u001b[0;34m\u001b[0m\u001b[0;34m\u001b[0m\u001b[0m\n\u001b[1;32m    177\u001b[0m         \u001b[0;34m(\u001b[0m\u001b[0mprimitive\u001b[0m\u001b[0;34m,\u001b[0m \u001b[0mhexstr\u001b[0m\u001b[0;34m)\u001b[0m \u001b[0;34m=\u001b[0m \u001b[0;34m(\u001b[0m\u001b[0mhexstr_or_primitive\u001b[0m\u001b[0;34m,\u001b[0m \u001b[0;32mNone\u001b[0m\u001b[0;34m)\u001b[0m\u001b[0;34m\u001b[0m\u001b[0;34m\u001b[0m\u001b[0m\n\u001b[0;32m--> 178\u001b[0;31m     \u001b[0;32mreturn\u001b[0m \u001b[0mto_type\u001b[0m\u001b[0;34m(\u001b[0m\u001b[0mprimitive\u001b[0m\u001b[0;34m,\u001b[0m \u001b[0mhexstr\u001b[0m\u001b[0;34m=\u001b[0m\u001b[0mhexstr\u001b[0m\u001b[0;34m)\u001b[0m\u001b[0;34m\u001b[0m\u001b[0;34m\u001b[0m\u001b[0m\n\u001b[0m\u001b[1;32m    179\u001b[0m \u001b[0;34m\u001b[0m\u001b[0m\n\u001b[1;32m    180\u001b[0m \u001b[0;34m\u001b[0m\u001b[0m\n",
      "\u001b[0;32m~/opt/anaconda3/lib/python3.8/site-packages/eth_utils/decorators.py\u001b[0m in \u001b[0;36mwrapper\u001b[0;34m(*args, **kwargs)\u001b[0m\n\u001b[1;32m     74\u001b[0m         \u001b[0;32mif\u001b[0m \u001b[0mlen\u001b[0m\u001b[0;34m(\u001b[0m\u001b[0margs\u001b[0m\u001b[0;34m)\u001b[0m \u001b[0;34m==\u001b[0m \u001b[0;36m0\u001b[0m \u001b[0;32mand\u001b[0m \u001b[0;34m\"primitive\"\u001b[0m \u001b[0;32mnot\u001b[0m \u001b[0;32min\u001b[0m \u001b[0mkwargs\u001b[0m\u001b[0;34m:\u001b[0m\u001b[0;34m\u001b[0m\u001b[0;34m\u001b[0m\u001b[0m\n\u001b[1;32m     75\u001b[0m             \u001b[0m_assert_hexstr_or_text_kwarg_is_text_type\u001b[0m\u001b[0;34m(\u001b[0m\u001b[0;34m**\u001b[0m\u001b[0mkwargs\u001b[0m\u001b[0;34m)\u001b[0m\u001b[0;34m\u001b[0m\u001b[0;34m\u001b[0m\u001b[0m\n\u001b[0;32m---> 76\u001b[0;31m         \u001b[0;32mreturn\u001b[0m \u001b[0mto_wrap\u001b[0m\u001b[0;34m(\u001b[0m\u001b[0;34m*\u001b[0m\u001b[0margs\u001b[0m\u001b[0;34m,\u001b[0m \u001b[0;34m**\u001b[0m\u001b[0mkwargs\u001b[0m\u001b[0;34m)\u001b[0m\u001b[0;34m\u001b[0m\u001b[0;34m\u001b[0m\u001b[0m\n\u001b[0m\u001b[1;32m     77\u001b[0m \u001b[0;34m\u001b[0m\u001b[0m\n\u001b[1;32m     78\u001b[0m     \u001b[0;32mreturn\u001b[0m \u001b[0mwrapper\u001b[0m\u001b[0;34m\u001b[0m\u001b[0;34m\u001b[0m\u001b[0m\n",
      "\u001b[0;32m~/opt/anaconda3/lib/python3.8/site-packages/eth_utils/conversions.py\u001b[0m in \u001b[0;36mto_hex\u001b[0;34m(primitive, hexstr, text)\u001b[0m\n\u001b[1;32m     46\u001b[0m         \u001b[0;32mreturn\u001b[0m \u001b[0mHexStr\u001b[0m\u001b[0;34m(\u001b[0m\u001b[0mhex\u001b[0m\u001b[0;34m(\u001b[0m\u001b[0mprimitive\u001b[0m\u001b[0;34m)\u001b[0m\u001b[0;34m)\u001b[0m\u001b[0;34m\u001b[0m\u001b[0;34m\u001b[0m\u001b[0m\n\u001b[1;32m     47\u001b[0m \u001b[0;34m\u001b[0m\u001b[0m\n\u001b[0;32m---> 48\u001b[0;31m     raise TypeError(\n\u001b[0m\u001b[1;32m     49\u001b[0m         \u001b[0;34m\"Unsupported type: '{0}'.  Must be one of: bool, str, bytes, bytearray\"\u001b[0m\u001b[0;34m\u001b[0m\u001b[0;34m\u001b[0m\u001b[0m\n\u001b[1;32m     50\u001b[0m         \u001b[0;34m\"or int.\"\u001b[0m\u001b[0;34m.\u001b[0m\u001b[0mformat\u001b[0m\u001b[0;34m(\u001b[0m\u001b[0mrepr\u001b[0m\u001b[0;34m(\u001b[0m\u001b[0mtype\u001b[0m\u001b[0;34m(\u001b[0m\u001b[0mprimitive\u001b[0m\u001b[0;34m)\u001b[0m\u001b[0;34m)\u001b[0m\u001b[0;34m)\u001b[0m\u001b[0;34m\u001b[0m\u001b[0;34m\u001b[0m\u001b[0m\n",
      "\u001b[0;31mTypeError\u001b[0m: Unsupported type: '<class 'float'>'.  Must be one of: bool, str, bytes, bytearrayor int."
     ]
    }
   ],
   "source": [
    "#create ETH transaction \n",
    "create_trx(ETH,eth_acc,'0x07F597826b464919894F8aE6DA17C8796e01F250',0.0000000000000001)"
   ]
  },
  {
   "cell_type": "code",
   "execution_count": 24,
   "id": "6a29f7cc-150c-475f-b7b9-94df7be397e3",
   "metadata": {},
   "outputs": [
    {
     "ename": "NameError",
     "evalue": "name 'w3' is not defined",
     "output_type": "error",
     "traceback": [
      "\u001b[0;31m---------------------------------------------------------------------------\u001b[0m",
      "\u001b[0;31mNameError\u001b[0m                                 Traceback (most recent call last)",
      "\u001b[0;32m<ipython-input-24-dab37d5c6116>\u001b[0m in \u001b[0;36m<module>\u001b[0;34m\u001b[0m\n\u001b[1;32m      1\u001b[0m \u001b[0;31m#check ETH balance\u001b[0m\u001b[0;34m\u001b[0m\u001b[0;34m\u001b[0m\u001b[0;34m\u001b[0m\u001b[0m\n\u001b[0;32m----> 2\u001b[0;31m \u001b[0mw3\u001b[0m\u001b[0;34m.\u001b[0m\u001b[0meth\u001b[0m\u001b[0;34m.\u001b[0m\u001b[0mgetBalance\u001b[0m\u001b[0;34m(\u001b[0m\u001b[0;34m'0x07F597826b464919894F8aE6DA17C8796e01F250'\u001b[0m\u001b[0;34m)\u001b[0m\u001b[0;34m\u001b[0m\u001b[0;34m\u001b[0m\u001b[0m\n\u001b[0m",
      "\u001b[0;31mNameError\u001b[0m: name 'w3' is not defined"
     ]
    }
   ],
   "source": [
    "#check ETH balance\n",
    "w3.eth.getBalance('0x07F597826b464919894F8aE6DA17C8796e01F250')"
   ]
  },
  {
   "cell_type": "code",
   "execution_count": null,
   "id": "e78db6cb-046e-4d65-90d3-722e5cafb982",
   "metadata": {},
   "outputs": [],
   "source": []
  }
 ],
 "metadata": {
  "kernelspec": {
   "display_name": "Python 3",
   "language": "python",
   "name": "python3"
  },
  "language_info": {
   "codemirror_mode": {
    "name": "ipython",
    "version": 3
   },
   "file_extension": ".py",
   "mimetype": "text/x-python",
   "name": "python",
   "nbconvert_exporter": "python",
   "pygments_lexer": "ipython3",
   "version": "3.8.2"
  }
 },
 "nbformat": 4,
 "nbformat_minor": 5
}
