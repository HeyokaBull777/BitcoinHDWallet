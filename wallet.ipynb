{
 "cells": [
  {
   "cell_type": "code",
   "execution_count": 1,
   "id": "a245b722-a36b-4b61-b71e-b66aeb8e81d9",
   "metadata": {},
   "outputs": [],
   "source": [
    "# Import dependencies\n",
    "import subprocess \n",
    "import json\n",
    "import os\n",
    "from dotenv import load_dotenv\n",
    "from constants import *\n",
    "\n",
    "from bit import Key, PrivateKey, PrivateKeyTestnet\n",
    "from bit.network import NetworkAPI\n",
    "from bit import *\n",
    "from web3 import Web3\n",
    "from eth_account import Account\n",
    "from web3 import Web3, middleware, Account\n",
    "\n",
    "from bit import PrivateKeyTestnet\n",
    "from bit.network import NetworkAPI\n",
    "from web3 import Web3, middleware, Account\n",
    "from web3.gas_strategies.time_based import medium_gas_price_strategy\n",
    "from web3.middleware import geth_poa_middleware\n",
    "w3= Web3(Web3.HTTPProvider('http://localhost:8545'))\n",
    "#enable PoA middleware\n",
    "w3.middleware_onion.inject(geth_poa_middleware, layer=0)\n",
    "#set gas price strategy to built in \"medium\" algorithm (~est 5min per tx) \n",
    "# see https://web3py.readthedocs.io/en/stable/gas_price.html?highlight=gas\n",
    "#see https://ethgastation.info/API for a more accuerate strategy\n",
    "w3.eth.setGasPriceStrategy(medium_gas_price_strategy)\n",
    "\n",
    "from web3.middleware import geth_poa_middleware"
   ]
  },
  {
   "cell_type": "code",
   "execution_count": 2,
   "id": "d0b86585-4d18-4f36-90a9-27524a09865c",
   "metadata": {},
   "outputs": [
    {
     "name": "stdout",
     "output_type": "stream",
     "text": [
      "# packages in environment at /Users/matthewblair/opt/anaconda3:\n",
      "#\n",
      "# Name                    Version                   Build  Channel\n",
      "bit                       0.7.2                    pypi_0    pypi\n",
      "bitarray                  1.2.2                    pypi_0    pypi\n"
     ]
    }
   ],
   "source": [
    "!conda list bit"
   ]
  },
  {
   "cell_type": "code",
   "execution_count": 3,
   "id": "3f55773e-5f93-4460-8fd9-d21d4eee7f28",
   "metadata": {},
   "outputs": [
    {
     "data": {
      "text/plain": [
       "str"
      ]
     },
     "execution_count": 3,
     "metadata": {},
     "output_type": "execute_result"
    }
   ],
   "source": [
    "# Load and set environment variables\n",
    "load_dotenv()\n",
    "mnemonic = os.getenv(\"mnemonic\")\n",
    "type(mnemonic)"
   ]
  },
  {
   "cell_type": "code",
   "execution_count": 4,
   "id": "b6af86e8-7706-4ce8-9908-9967889e8a1b",
   "metadata": {},
   "outputs": [],
   "source": [
    "# Create a function called `derive_wallets`\n",
    "\n",
    "def derive_wallets(mnemonic, coin, numderive):\n",
    "    \"\"\"Use the subprocess library to call the php file script from Python\"\"\"\n",
    "    command = f'php ./hd-wallet-derive/hd-wallet-derive.php -g --mnemonic=\"{mnemonic}\" --numderive=\"{numderive}\" --coin=\"{coin}\" --format=json' \n",
    "    \n",
    "    p = subprocess.Popen(command, stdout=subprocess.PIPE, shell=True)\n",
    "    (output, err) = p.communicate()\n",
    "   \n",
    "    keys = json.loads(output)\n",
    "    return  keys\n",
    "\n"
   ]
  },
  {
   "cell_type": "code",
   "execution_count": 5,
   "id": "0133fb1c-e7d6-41df-a103-2efc3926b550",
   "metadata": {},
   "outputs": [],
   "source": [
    "#Setting dictionary of coins to be used in the wallet\n",
    "\n",
    "coins = {\"eth\", \"btc-test\", \"btc\"}\n",
    "numderive = 3\n",
    "\n"
   ]
  },
  {
   "cell_type": "code",
   "execution_count": 6,
   "id": "f031e143-8ca7-4764-ace1-10786f25a12a",
   "metadata": {},
   "outputs": [],
   "source": [
    "#Loading mneomnic env\n",
    "\n",
    "keys = {}\n",
    "for coin in coins:\n",
    "    keys[coin]= derive_wallets(os.getenv('mnemonic'), coin, numderive=3)\n",
    "\n"
   ]
  },
  {
   "cell_type": "code",
   "execution_count": 7,
   "id": "b6314a45-aad1-4cec-97f9-ac08fa9f902a",
   "metadata": {},
   "outputs": [
    {
     "name": "stdout",
     "output_type": "stream",
     "text": [
      "\"0xc92d285ef749d75004e6ab6cf1a9e16d85eb6bfc550a6117841995a3ec389e76\"\n",
      "\"cNG3kBzDteXZJCPR1xWv7iMAfdA64GzpKJdY3NCP5NvjV2T6ksa2\"\n"
     ]
    }
   ],
   "source": [
    "#Set Private Keys\n",
    "eth_PrivateKey = keys[\"eth\"][0]['privkey']\n",
    "btc_PrivateKey = keys['btc-test'][0]['privkey']\n",
    "\n",
    "\n",
    "print(json.dumps(eth_PrivateKey, indent=4, sort_keys=True))\n",
    "print(json.dumps(btc_PrivateKey, indent=4, sort_keys=True))"
   ]
  },
  {
   "cell_type": "code",
   "execution_count": 8,
   "id": "8909f636-322f-459c-a4dd-88a73dba1375",
   "metadata": {},
   "outputs": [
    {
     "name": "stdout",
     "output_type": "stream",
     "text": [
      "{\n",
      "    \"btc\": [\n",
      "        {\n",
      "            \"address\": \"1K2ZS5TwvZ8EJADePgd645i9jQX56AtoUo\",\n",
      "            \"index\": 0,\n",
      "            \"path\": \"m/44'/0'/0'/0/0\",\n",
      "            \"privkey\": \"Kwhv6vFwxyNqjv9xWmo9kbuoFsz8bZurLZeXJCeeDjAgBWm7qeBQ\",\n",
      "            \"pubkey\": \"0317725a5fff825bc47edd6ce08c8b1b3633fdc3515927565fe192dcae0d69645e\",\n",
      "            \"pubkeyhash\": \"c5bdc0d4760c12018b7cd19317101717dbe9847c\",\n",
      "            \"xprv\": \"xprvA3NL5uM7dCkHNPxrLUfgiZGsuzJR7gxvF9sD4PiNs87h3E3Cy9Vkw5YkQ3VtSwaLJSe8zStZ2w6CQLnzEtymvCAtfsoqi8mbA3fXpkWv7eS\",\n",
      "            \"xpub\": \"xpub6GMgVQt1TaJaat3KSWCh5hDcU28uX9gmcNnorn7zRTefv2NMWgp1UssEFLYLLrJviWaA5XVFmL51yGVMX3W3Urz1u14aNBYKVJQ9GNnzogK\"\n",
      "        },\n",
      "        {\n",
      "            \"address\": \"16QBWXmecywY7dRiaGhq7HjYvdeYkw2mTi\",\n",
      "            \"index\": 1,\n",
      "            \"path\": \"m/44'/0'/0'/0/1\",\n",
      "            \"privkey\": \"Ky9aYstD826WH9jNpqPYB4ddSH9s5QKpodFHdT8yw4zijoPUFc7X\",\n",
      "            \"pubkey\": \"02017ac8ab4b1140678ad53ce9ee7151c7aefac3c0522c54d56bdd1cebeb2963bf\",\n",
      "            \"pubkeyhash\": \"3b3af7f865ccc48782d1ec52b5023598c0bf351f\",\n",
      "            \"xprv\": \"xprvA3NL5uM7dCkHT8BYnmq3ZPZW6P2TaoYSJwdaAUrzVTwJFwJf3qWheTw9qUGFnciM3qvLnDyHyoTiZV7iSPXSbViAJCBaXqwjsU9BvsXAhPR\",\n",
      "            \"xpub\": \"xpub6GMgVQt1TaJafcG1toN3vXWEeQrwzGGHgAZAxsGc3oUH8jdobNpxCGFdgisL1BcijaCpcTutRk46GHsjjAm34tiCgAJ3nCDhxYEehyWM5ST\"\n",
      "        },\n",
      "        {\n",
      "            \"address\": \"16idVaa8Dp6kPpaDQhMdhq9pbydgaTu4cU\",\n",
      "            \"index\": 2,\n",
      "            \"path\": \"m/44'/0'/0'/0/2\",\n",
      "            \"privkey\": \"L2xZZt71RcNYDWs3XibMbhxHybRRn68ai2bs7nyDC16PvFM4w9xH\",\n",
      "            \"pubkey\": \"022f486c4d80ebe9105a05607b31991db90bb56b092b5be7f24835b721612998ef\",\n",
      "            \"pubkeyhash\": \"3eb8255d5ebabf046d8581e3198c3cea22e67784\",\n",
      "            \"xprv\": \"xprvA3NL5uM7dCkHV4DvrUyDRpGmjEndKwjRvA4ofWssZPqUZgmJh2E5qP7fJRsAQkYtUNhzEeev6HsmzybBpjeFAod2doGqUJFPJew8CMHFYZq\",\n",
      "            \"xpub\": \"xpub6GMgVQt1TaJahYJPxWWDnxDWHGd7jQTHHNzQTuHV7jNTSV6TEZYLPBS99fxLkjJs7TxhuJkVD8gaAwh9UmqhguqRfMW5SDRPThZbwCiWAFs\"\n",
      "        }\n",
      "    ],\n",
      "    \"btc-test\": [\n",
      "        {\n",
      "            \"address\": \"mxcpHYVCcRUoeXT3ZboHwhv6AeUt1hPgD6\",\n",
      "            \"index\": 0,\n",
      "            \"path\": \"m/44'/1'/0'/0/0\",\n",
      "            \"privkey\": \"cNG3kBzDteXZJCPR1xWv7iMAfdA64GzpKJdY3NCP5NvjV2T6ksa2\",\n",
      "            \"pubkey\": \"0253ceb56a6da2954b965e981ec065f1cd959d77255ed1109f2e23bac037e52725\",\n",
      "            \"pubkeyhash\": \"bb95f2dd1a82e2f83d77004bbb9d08f2d45870b8\",\n",
      "            \"xprv\": \"tprv8kQR19ticc7BX4qAuyS8p9toM4WV3WLXJs7CugwpibwCc1yvquxBugnoS2WihVpDwZrtQkwQXnisA3VhFq8Pqdr9yMH7iKkz43mWFhcmRa9\",\n",
      "            \"xpub\": \"tpubDH6T9ZvxkynrQXrxod6jDZYuv62RCqXRtAhzCCz88sjbSWEhUJmn6BQfc9wcNXauFCrd2sJ8TnGKiiHBTNSMh4Y9rByM7hRZupTVFDSL8UQ\"\n",
      "        },\n",
      "        {\n",
      "            \"address\": \"msVCUnAjTZ6wiKUMwR9Up7rPjs6bc1LmPZ\",\n",
      "            \"index\": 1,\n",
      "            \"path\": \"m/44'/1'/0'/0/1\",\n",
      "            \"privkey\": \"cTwXQLVSPdejaMT9qDeBqwGsSsDC6oCvQP2fTJCRtTXPNeB9HpZC\",\n",
      "            \"pubkey\": \"028f4742cb0f7cc6c8b169fe1ab1cc7861b13d569993045d99a4406753abcc0396\",\n",
      "            \"pubkeyhash\": \"834c84b9c171956e4b87cf2ff6bacbc545232c4e\",\n",
      "            \"xprv\": \"tprv8kQR19ticc7BZGWyyeF48fgDmoBWEw2AWeATe4ydBYCK34WqpuwkkZCXuxKFwodcVa4z2XigsCTB1Pb4BM6DyVxRFpRRVDdjJskxLUEJYJs\",\n",
      "            \"xpub\": \"tpubDH6T9ZvxkynrSjYmsHueY5LLLphSQGD55wmEvb1vbozhsYmcTJmLw3pQ64uhC3uvJnpTQDchxEaNVSw5j2CKGg5S2NcUoB2WSNa8JzKLEUt\"\n",
      "        },\n",
      "        {\n",
      "            \"address\": \"moR9V4d3zqJ3N43d2HT6rf6rZY29KGBx2U\",\n",
      "            \"index\": 2,\n",
      "            \"path\": \"m/44'/1'/0'/0/2\",\n",
      "            \"privkey\": \"cSiKHrr9c2Pbf7xk6R9i7AGnfuKVnhbN2WDU19N5eDtpNY9bQ8zf\",\n",
      "            \"pubkey\": \"0310cc87d979bb775bd370835739f111d6f7a92b52f16ee881da9f4cd6af99c94a\",\n",
      "            \"pubkeyhash\": \"56a7d9ede3ef5286171e9c55bb2cc71bad128170\",\n",
      "            \"xprv\": \"tprv8kQR19ticc7BdXgsnTRuyhgH8j6G4qK8wvbfGVRFwjzY8JQqXdEs3jywNAazVSWW5U24JxpeK5nYkF5WHhFpjkVKU7Pkn1hdnvouZWWiDpD\",\n",
      "            \"xpub\": \"tpubDH6T9ZvxkynrWzifg76WP7LPhkcCEAW3XECSZ1TZN1nvxnfcA24TEEboYJSbtr5GbJ3mMVsHcjZK8UhMErLHvKKTEqjhUxerzyeE87srtyH\"\n",
      "        }\n",
      "    ],\n",
      "    \"eth\": [\n",
      "        {\n",
      "            \"address\": \"0x07F597826b464919894F8aE6DA17C8796e01F250\",\n",
      "            \"index\": 0,\n",
      "            \"path\": \"m/44'/60'/0'/0/0\",\n",
      "            \"privkey\": \"0xc92d285ef749d75004e6ab6cf1a9e16d85eb6bfc550a6117841995a3ec389e76\",\n",
      "            \"pubkey\": \"03620c263147f508768fb5e7d8f27abcd2dae67cf04f877eebc7e13675e58ea9a1\",\n",
      "            \"pubkeyhash\": \"7a267f33d979ef84c08ca95a9dedb1892bffba28\",\n",
      "            \"xprv\": \"xprvA3XXnR9Y7XAYfgP1aTSxeVTE1Kx2vZhd3ZKt2xbwnW5VumBW2Lqb9VfaFrfMUbmVe3i1ZERZ7mtC7LPLVHpmWe7kUYiPHSBFL3gEp8NZ5yH\",\n",
      "            \"xpub\": \"xpub6GWtBvgRwtiqtATUgUyy1dPxZMnXL2RUQnFUqM1ZLqcUnZWeZt9qhHz478rSodYGep6D6jerGk8ACVodoPDBD2JwbfjqFrDcdUzA1D7VWs5\"\n",
      "        },\n",
      "        {\n",
      "            \"address\": \"0x018A4c5B36d997aAc69F7Dbcb72b5f2dec703479\",\n",
      "            \"index\": 1,\n",
      "            \"path\": \"m/44'/60'/0'/0/1\",\n",
      "            \"privkey\": \"0xa5ed621bdf62e352200fd100e47d27c86f5b257de8f221b131db494a23d356d6\",\n",
      "            \"pubkey\": \"02051eae70780dbf76c63eafdd1f58bc7b175d73d60ba3252be7e4d0a527e0001b\",\n",
      "            \"pubkeyhash\": \"adde4e5ee0a2f7a27a2038cff35511fb44e283bf\",\n",
      "            \"xprv\": \"xprvA3XXnR9Y7XAYhh2CH7SJD9X2yXJ3duCG5Pp56pXwVQCWAdv95tpBLNcu5rGj4hUrkQesNfqgHzko2ohYSH1Vi2ANwsT41uhHvuLHZYwaWV9\",\n",
      "            \"xpub\": \"xpub6GWtBvgRwtiqvB6fP8yJaHTmXZ8Y3Mv7ScjfuCwZ3jjV3SFHdS8RtAwNw65ftxfFyixDEiMWqEzaUacvCSUVMfHpVtJkKU3wh1MLKAtURYt\"\n",
      "        },\n",
      "        {\n",
      "            \"address\": \"0x7dEBF0f2f6A2CA650D241a5350AAF36Fa3bb011E\",\n",
      "            \"index\": 2,\n",
      "            \"path\": \"m/44'/60'/0'/0/2\",\n",
      "            \"privkey\": \"0x2c7f088a1b374bedce1094e97522801a4d9e2577bed3e846531021f632217a91\",\n",
      "            \"pubkey\": \"03c27eb9e8b422c59553019d96bdf1c68281c3cc9c65a194797fdf5c22bf52eb0a\",\n",
      "            \"pubkeyhash\": \"fc51ab86bb40a1be45d07b18ecb5a90f6391a553\",\n",
      "            \"xprv\": \"xprvA3XXnR9Y7XAYmZmUajmij7ijdYx5QAjgKmRhVHeeCsDAHiWAZNzvDD5uB3bJNspbFAgV1ZiwL7bD3Qcd85fnzdCLuQL8FpR7ZbAEgB75B6G\",\n",
      "            \"xpub\": \"xpub6GWtBvgRwtiqz3qwgmJj6FfUBanZodTXgzMJHg4FmCk9AWqK6vKAm1QP2MhsWnyQ5Jhg9pdHjQzsebnTPcuqg1gNWBhTod8wpfxtwjQv4Dt\"\n",
      "        }\n",
      "    ]\n",
      "}\n"
     ]
    }
   ],
   "source": [
    "#print json\n",
    "\n",
    "print(json.dumps(keys, indent=4, sort_keys=True))\n",
    "\n"
   ]
  },
  {
   "cell_type": "code",
   "execution_count": 9,
   "id": "8984aa2c-4310-498d-b05a-b1350e19e925",
   "metadata": {},
   "outputs": [
    {
     "name": "stdout",
     "output_type": "stream",
     "text": [
      "<eth_account.signers.local.LocalAccount object at 0x7fa87ac5e730>\n",
      "<PrivateKeyTestnet: mxcpHYVCcRUoeXT3ZboHwhv6AeUt1hPgD6>\n"
     ]
    }
   ],
   "source": [
    "# Create a function called `priv_key_to_account` that converts privkey strings to account objects.\n",
    "def priv_key_to_account(coin, priv_key):\n",
    "    \"\"\"Convert the privkey string in a child key to an account object that bit or web3.py can use to transact\"\"\"\n",
    "    if coin == ETH:\n",
    "        return Account.privateKeyToAccount(priv_key)\n",
    "    if coin == BTCTEST:\n",
    "        return PrivateKeyTestnet(priv_key)\n",
    "    \n",
    "eth_acc = priv_key_to_account(ETH,eth_PrivateKey)\n",
    "btc_acc = priv_key_to_account(BTCTEST,btc_PrivateKey)\n",
    "print(eth_acc)\n",
    "print(btc_acc)"
   ]
  },
  {
   "cell_type": "code",
   "execution_count": 10,
   "id": "d2b5539c-38ac-4f9c-8240-28569ddc4292",
   "metadata": {},
   "outputs": [],
   "source": [
    "# Create a function called `create_tx` that creates an unsigned transaction appropriate metadata.\n",
    "\n",
    "\n",
    "def create_trx(coin, account, recipient, amount):\n",
    "    \"\"\"create the raw, unsigned transaction that contains all metadata needed to transact\"\"\"\n",
    "    global trx_data\n",
    "    if coin ==ETH:\n",
    "        value = w3.toWei(amount, \"ether\") # convert to wei\n",
    "        gasEstimate = w3.eth.estimateGas(\n",
    "            {\n",
    "                \"from\": account.address, \n",
    "                \"to\": recipient, \n",
    "                \"value\": value\n",
    "            }\n",
    "        )\n",
    "        trx_data = {\n",
    "            \"to\": recipient,\n",
    "            \"from\": account.address,\n",
    "            \"value\": value,\n",
    "            \"gasPrice\": w3.eth.gasPrice,\n",
    "            \"gas\": gasEstimate,\n",
    "            \"nonce\": w3.eth.getTransactionCount(account.address)\n",
    "        }\n",
    "        return trx_data\n",
    "\n",
    "    if coin == BTCTEST:\n",
    "        return PrivateKeyTestnet.prepare_transaction(account.address, [(recipient, amount, BTC)])\n",
    "\n"
   ]
  },
  {
   "cell_type": "code",
   "execution_count": 11,
   "id": "ff45ddd9-d368-4419-8d2a-4812a7f22332",
   "metadata": {},
   "outputs": [],
   "source": [
    "# Create a function called `send_tx` that calls `create_tx`, signs and sends the transaction.\n",
    "def send_trx(coin, account, recipient, amount):\n",
    "    \"\"\"call create_trx, sign the transaction, then send it to the designated network\"\"\"\n",
    "    if coin == \"eth\": \n",
    "        trx_eth = create_trx(coin,account, recipient, amount)\n",
    "        sign = account.signTransaction(trx_eth)\n",
    "        result = w3.eth.sendRawTransaction(sign.rawTransaction)\n",
    "        print(result.hex())\n",
    "        return result.hex()\n",
    "    else:\n",
    "        trx_btctest= create_trx(coin,account,recipient,amount)\n",
    "        sign_trx_btctest = account.sign_transaction(trx_btctest)\n",
    "        from bit.network import NetworkAPI\n",
    "        NetworkAPI.broadcast_tx_testnet(sign_trx_btctest)       \n",
    "        return sign_trx_btctest"
   ]
  },
  {
   "cell_type": "code",
   "execution_count": 12,
   "id": "d6eb629e-4bc6-48a0-8a76-bfff6f85baaf",
   "metadata": {},
   "outputs": [
    {
     "name": "stdout",
     "output_type": "stream",
     "text": [
      "<PrivateKeyTestnet: mxcpHYVCcRUoeXT3ZboHwhv6AeUt1hPgD6>\n"
     ]
    }
   ],
   "source": [
    "print(btc_acc)"
   ]
  },
  {
   "cell_type": "code",
   "execution_count": 43,
   "id": "083f1547-0f8e-48dd-9d3c-e59874cb7848",
   "metadata": {},
   "outputs": [
    {
     "data": {
      "text/plain": [
       "'{\"unspents\":[{\"amount\":10457,\"confirmations\":10,\"script\":\"76a914bb95f2dd1a82e2f83d77004bbb9d08f2d45870b888ac\",\"txid\":\"a8d188f655aeb9dc804d4c7bbe62dd3abad0920f90e3c6d0420b0785e86dc164\",\"txindex\":1,\"type\":\"p2pkh\",\"vsize\":148,\"segwit\":false,\"sequence\":4294967295},{\"amount\":100000,\"confirmations\":0,\"script\":\"76a914bb95f2dd1a82e2f83d77004bbb9d08f2d45870b888ac\",\"txid\":\"8676ed15a213bf2364c01a36dccdf5fedb425beb62ee03bf7b29c58d96f8db90\",\"txindex\":1,\"type\":\"p2pkh\",\"vsize\":148,\"segwit\":false,\"sequence\":4294967295},{\"amount\":10000,\"confirmations\":0,\"script\":\"76a914bb95f2dd1a82e2f83d77004bbb9d08f2d45870b888ac\",\"txid\":\"7b153153ec0ff4ca2adadc186bd4223a511610977f318bfd6127401cb5279770\",\"txindex\":0,\"type\":\"p2pkh\",\"vsize\":148,\"segwit\":false,\"sequence\":4294967295}],\"outputs\":[[\"msVCUnAjTZ6wiKUMwR9Up7rPjs6bc1LmPZ\",0],[\"mxcpHYVCcRUoeXT3ZboHwhv6AeUt1hPgD6\",67213]]}'"
      ]
     },
     "execution_count": 43,
     "metadata": {},
     "output_type": "execute_result"
    }
   ],
   "source": [
    "# create BTC transaction\n",
    "create_trx(BTCTEST,btc_acc,\"msVCUnAjTZ6wiKUMwR9Up7rPjs6bc1LmPZ\", 0.0000000001)\n",
    "\n",
    "\n"
   ]
  },
  {
   "cell_type": "code",
   "execution_count": 44,
   "id": "7941b698-e9b8-4c07-9865-78bd6d53a203",
   "metadata": {},
   "outputs": [
    {
     "data": {
      "text/plain": [
       "'010000000364c16de885070b42d0c6e3900f92d0ba3add62be7b4c4d80dcb9ae55f688d1a8010000006a4730440220363a2b10dab5c6a0c20c868dd3070326fbc4b372344c5ff9035ef0ef2b79a49402207f0ff27ea3402e317f806eba163de48f29d9000c7b84f354c0107a5fada539f001210253ceb56a6da2954b965e981ec065f1cd959d77255ed1109f2e23bac037e52725ffffffff90dbf8968dc5297bbf03ee62eb5b42dbfef5cddc361ac06423bf13a215ed7686010000006a47304402205ff7a91d4f6a5efd7370da7da5b165a2c00ec55141a249ec8100c249bf89f75502203d1d4a3c4c6694f1ff7bec48613897bd73454d88501ed7aded83fc150c018bd801210253ceb56a6da2954b965e981ec065f1cd959d77255ed1109f2e23bac037e52725ffffffff709727b51c402761fd8b317f971016513a22d46b18dcda2acaf40fec5331157b000000006a473044022069d710006ee057dd0f33a5526abfa5bfbcb52cf1ae17d98e6013c8e4e8a8412f022074413bfd4ae3f91088d5a90c33500ad8c6d244b2500ce1b81534f07d8046ca4001210253ceb56a6da2954b965e981ec065f1cd959d77255ed1109f2e23bac037e52725ffffffff0201000000000000001976a914834c84b9c171956e4b87cf2ff6bacbc545232c4e88ac8c060100000000001976a914bb95f2dd1a82e2f83d77004bbb9d08f2d45870b888ac00000000'"
      ]
     },
     "execution_count": 44,
     "metadata": {},
     "output_type": "execute_result"
    }
   ],
   "source": [
    "#send BTC transaction\n",
    "send_trx(BTCTEST,btc_acc,'msVCUnAjTZ6wiKUMwR9Up7rPjs6bc1LmPZ',0.00000001)\n",
    "#mxcpHYVCcRUoeXT3ZboHwhv6AeUt1hPgD6"
   ]
  },
  {
   "cell_type": "code",
   "execution_count": 14,
   "id": "b002d90d-eea2-481e-8b6f-2194fcb56efd",
   "metadata": {},
   "outputs": [],
   "source": [
    "\n",
    "\n",
    "\n",
    "#connecting to HTTP with address pk\n",
    "w3 = Web3(Web3.HTTPProvider(\"HTTP://127.0.0.1:8545\"))\n",
    "\n"
   ]
  },
  {
   "cell_type": "code",
   "execution_count": 19,
   "id": "94464593-64b9-4f79-943c-63f8e302e2dc",
   "metadata": {},
   "outputs": [
    {
     "data": {
      "text/plain": [
       "{'to': '0x018A4c5B36d997aAc69F7Dbcb72b5f2dec703479',\n",
       " 'from': '0x07F597826b464919894F8aE6DA17C8796e01F250',\n",
       " 'value': 1000000000000000000000,\n",
       " 'gasPrice': 20000000000,\n",
       " 'gas': 21000,\n",
       " 'nonce': 0}"
      ]
     },
     "execution_count": 19,
     "metadata": {},
     "output_type": "execute_result"
    }
   ],
   "source": [
    "#create ETH transaction \n",
    "create_trx(ETH,eth_acc,\"0x018A4c5B36d997aAc69F7Dbcb72b5f2dec703479\",1000)"
   ]
  },
  {
   "cell_type": "code",
   "execution_count": 18,
   "id": "6a29f7cc-150c-475f-b7b9-94df7be397e3",
   "metadata": {},
   "outputs": [
    {
     "data": {
      "text/plain": [
       "100000000000000000000"
      ]
     },
     "execution_count": 18,
     "metadata": {},
     "output_type": "execute_result"
    }
   ],
   "source": [
    "#check ETH balance\n",
    "w3.eth.getBalance('0x07F597826b464919894F8aE6DA17C8796e01F250')"
   ]
  },
  {
   "cell_type": "code",
   "execution_count": 21,
   "id": "e78db6cb-046e-4d65-90d3-722e5cafb982",
   "metadata": {},
   "outputs": [
    {
     "name": "stdout",
     "output_type": "stream",
     "text": [
      "0x6709b56148442077cd91e97e0d62a89b5c5eb40d5f981ed4234a8854f5a00202\n"
     ]
    },
    {
     "data": {
      "text/plain": [
       "'0x6709b56148442077cd91e97e0d62a89b5c5eb40d5f981ed4234a8854f5a00202'"
      ]
     },
     "execution_count": 21,
     "metadata": {},
     "output_type": "execute_result"
    }
   ],
   "source": [
    "#send ETH transaction\n",
    "send_trx(ETH, eth_acc,\"0x018A4c5B36d997aAc69F7Dbcb72b5f2dec703479\", 1)"
   ]
  },
  {
   "cell_type": "code",
   "execution_count": 22,
   "id": "762b6a3e-64cd-4125-933d-b1430ece0238",
   "metadata": {},
   "outputs": [
    {
     "data": {
      "text/plain": [
       "101000000000000000000"
      ]
     },
     "execution_count": 22,
     "metadata": {},
     "output_type": "execute_result"
    }
   ],
   "source": [
    "#check ETH balance\n",
    "w3.eth.getBalance('0x018A4c5B36d997aAc69F7Dbcb72b5f2dec703479')"
   ]
  },
  {
   "cell_type": "code",
   "execution_count": null,
   "id": "185e88ee-1044-42b7-8400-0e46f7942ff3",
   "metadata": {},
   "outputs": [],
   "source": []
  }
 ],
 "metadata": {
  "kernelspec": {
   "display_name": "Python 3",
   "language": "python",
   "name": "python3"
  },
  "language_info": {
   "codemirror_mode": {
    "name": "ipython",
    "version": 3
   },
   "file_extension": ".py",
   "mimetype": "text/x-python",
   "name": "python",
   "nbconvert_exporter": "python",
   "pygments_lexer": "ipython3",
   "version": "3.8.2"
  }
 },
 "nbformat": 4,
 "nbformat_minor": 5
}
